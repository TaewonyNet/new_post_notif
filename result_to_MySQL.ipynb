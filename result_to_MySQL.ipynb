{
 "cells": [
  {
   "cell_type": "code",
   "execution_count": 11,
   "metadata": {},
   "outputs": [],
   "source": [
    "import pymysql\n",
    "import hashlib\n",
    "\n",
    "from urllib.request import urlopen\n",
    "from bs4 import BeautifulSoup as bs"
   ]
  },
  {
   "cell_type": "code",
   "execution_count": 15,
   "metadata": {},
   "outputs": [],
   "source": [
    "with open('mysql_passwd.txt', 'r') as f:\n",
    "    mysql_passwd = f.read()"
   ]
  },
  {
   "cell_type": "code",
   "execution_count": 55,
   "metadata": {},
   "outputs": [
    {
     "data": {
      "text/plain": [
       "<pymysql.cursors.Cursor at 0x2e4c8294d08>"
      ]
     },
     "execution_count": 55,
     "metadata": {},
     "output_type": "execute_result"
    }
   ],
   "source": [
    "db = pymysql.connect(\n",
    "    host='127.0.0.1',\n",
    "#     unix_socket = '/tmp/mysql.sock',\n",
    "    user='root',\n",
    "    passwd=mysql_passwd,\n",
    "    db='mysql',\n",
    "    charset='utf8'\n",
    ")\n",
    "\n",
    "cursor = db.cursor()\n",
    "cursor"
   ]
  },
  {
   "cell_type": "code",
   "execution_count": 49,
   "metadata": {},
   "outputs": [],
   "source": [
    "create_table_sql = '''\n",
    "CREATE TABLE new_posts (\n",
    "    id INT NOT NULL AUTO_INCREMENT, \n",
    "    hash VARCHAR(100), \n",
    "    site VARCHAR(1000),\n",
    "    created_at TIMESTAMP DEFAULT CURRENT_TIMESTAMP, \n",
    "    PRIMARY KEY(id)\n",
    ")\n",
    "'''"
   ]
  },
  {
   "cell_type": "code",
   "execution_count": 47,
   "metadata": {},
   "outputs": [],
   "source": [
    "drop_table_sql = '''\n",
    "DROP TABLE new_posts\n",
    "'''\n",
    "\n",
    "cursor.execute(drop_table_sql)\n",
    "db.commit()"
   ]
  },
  {
   "cell_type": "code",
   "execution_count": 33,
   "metadata": {},
   "outputs": [
    {
     "data": {
      "text/plain": [
       "<bound method Cursor.close of <pymysql.cursors.Cursor object at 0x000002E4C7771588>>"
      ]
     },
     "execution_count": 33,
     "metadata": {},
     "output_type": "execute_result"
    }
   ],
   "source": [
    "db.close\n",
    "cursor.close"
   ]
  },
  {
   "cell_type": "code",
   "execution_count": 50,
   "metadata": {},
   "outputs": [],
   "source": [
    "cursor.execute(create_table_sql)\n",
    "db.commit()"
   ]
  },
  {
   "cell_type": "code",
   "execution_count": 31,
   "metadata": {},
   "outputs": [],
   "source": [
    "def SHA1_hash(string):\n",
    "    return hashlib.sha1(string).hexdigest()"
   ]
  },
  {
   "cell_type": "code",
   "execution_count": 66,
   "metadata": {},
   "outputs": [],
   "source": [
    "def store(hashed, site):\n",
    "    insert_into_sql = '''\n",
    "    INSERT INTO mysql.new_posts (\n",
    "        hash,\n",
    "        site\n",
    "    )\n",
    "    VALUES (\n",
    "        \"{hashed}\",\n",
    "        \"{site}\"\n",
    "    )\n",
    "    '''.format(hashed=hashed, site=site)\n",
    "    \n",
    "    try:\n",
    "        cursor.execute(insert_into_sql)\n",
    "        db.commit()\n",
    "    except:\n",
    "        print(\"Failed to insert data\")\n",
    "    \n",
    "    return"
   ]
  },
  {
   "cell_type": "code",
   "execution_count": 67,
   "metadata": {},
   "outputs": [],
   "source": [
    "store('testhash', 'testsiteurl')"
   ]
  },
  {
   "cell_type": "code",
   "execution_count": 68,
   "metadata": {},
   "outputs": [
    {
     "data": {
      "text/plain": [
       "((1, 'testhash', 'testurl', datetime.datetime(2020, 2, 8, 4, 21, 50)),\n",
       " (2, 'testhash', 'testsiteurl', datetime.datetime(2020, 2, 8, 4, 22, 42)))"
      ]
     },
     "execution_count": 68,
     "metadata": {},
     "output_type": "execute_result"
    }
   ],
   "source": [
    "select_sql = '''\n",
    "SELECT * FROM mysql.new_posts\n",
    "'''\n",
    "\n",
    "cursor.execute(select_sql)\n",
    "cursor.fetchall()"
   ]
  },
  {
   "cell_type": "code",
   "execution_count": 8,
   "metadata": {},
   "outputs": [],
   "source": [
    "t = '''\n",
    "이 헌법시행 당시에 이 헌법에 의하여 새로 설치될 기관의 권한에 속하는 직무를 행하고 있는 기관은 이 헌법에 의하여 새로운 기관이 설치될 때까지 존속하며 그 직무를 행한다.\n",
    "\n",
    "형사피해자는 법률이 정하는 바에 의하여 당해 사건의 재판절차에서 진술할 수 있다. 모든 국민은 학문과 예술의 자유를 가진다. 국무총리는 국회의 동의를 얻어 대통령이 임명한다.\n",
    "\n",
    "국민경제자문회의의 조직·직무범위 기타 필요한 사항은 법률로 정한다. 대법원에 대법관을 둔다. 다만, 법률이 정하는 바에 의하여 대법관이 아닌 법관을 둘 수 있다.\n",
    "'''"
   ]
  },
  {
   "cell_type": "code",
   "execution_count": 9,
   "metadata": {},
   "outputs": [
    {
     "name": "stdout",
     "output_type": "stream",
     "text": [
      "Wall time: 0 ns\n"
     ]
    },
    {
     "data": {
      "text/plain": [
       "'bff23b59a72f24879bb46ddb1bd03ffe09ba01b4'"
      ]
     },
     "execution_count": 9,
     "metadata": {},
     "output_type": "execute_result"
    }
   ],
   "source": [
    "%%time\n",
    "t = t.encode('utf-8')\n",
    "t\n",
    "\n",
    "hashlib.sha1(t).hexdigest()"
   ]
  },
  {
   "cell_type": "code",
   "execution_count": null,
   "metadata": {},
   "outputs": [],
   "source": []
  }
 ],
 "metadata": {
  "kernelspec": {
   "display_name": "Python 3",
   "language": "python",
   "name": "python3"
  },
  "language_info": {
   "codemirror_mode": {
    "name": "ipython",
    "version": 3
   },
   "file_extension": ".py",
   "mimetype": "text/x-python",
   "name": "python",
   "nbconvert_exporter": "python",
   "pygments_lexer": "ipython3",
   "version": "3.7.5"
  }
 },
 "nbformat": 4,
 "nbformat_minor": 4
}
