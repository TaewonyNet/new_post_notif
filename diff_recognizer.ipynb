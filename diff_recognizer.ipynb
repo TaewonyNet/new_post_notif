{
 "cells": [
  {
   "cell_type": "code",
   "execution_count": 64,
   "metadata": {},
   "outputs": [],
   "source": [
    "from urllib.request import urlopen\n",
    "from urllib.error import HTTPError\n",
    "from urllib.error import URLError\n",
    "\n",
    "import bs4\n",
    "from bs4 import BeautifulSoup as bs"
   ]
  },
  {
   "cell_type": "code",
   "execution_count": 72,
   "metadata": {},
   "outputs": [],
   "source": [
    "import difflib\n",
    "from pprint import pprint\n",
    "import re"
   ]
  },
  {
   "cell_type": "code",
   "execution_count": 3,
   "metadata": {},
   "outputs": [],
   "source": [
    "target_sites = ['http://www.coolenjoy.net/bbs/40', 'https://ddd.com'] # DC예수게이 갤러리 안된다. "
   ]
  },
  {
   "cell_type": "code",
   "execution_count": 4,
   "metadata": {},
   "outputs": [],
   "source": [
    "def error_checker(site):\n",
    "    try:\n",
    "        html = urlopen(site)\n",
    "    except HTTPError as e:\n",
    "        print(site, \"The server returned an HTTP error, \", e)\n",
    "        return 1\n",
    "    except URLError as e:\n",
    "        print(site, \"The server could not be found. \", e)\n",
    "        return 1\n",
    "    else: # Success\n",
    "        return 0"
   ]
  },
  {
   "cell_type": "code",
   "execution_count": 5,
   "metadata": {},
   "outputs": [
    {
     "name": "stdout",
     "output_type": "stream",
     "text": [
      "https://ddd.com The server could not be found.  <urlopen error [Errno 11001] getaddrinfo failed>\n"
     ]
    },
    {
     "data": {
      "text/plain": [
       "['http://www.coolenjoy.net/bbs/40']"
      ]
     },
     "execution_count": 5,
     "metadata": {},
     "output_type": "execute_result"
    }
   ],
   "source": [
    "filtered_target_sites = list(map(lambda x: x if error_checker(x)==0 else None, target_sites))\n",
    "filtered_target_sites = list(filter(None, filtered_target_sites))\n",
    "filtered_target_sites"
   ]
  },
  {
   "cell_type": "code",
   "execution_count": 8,
   "metadata": {},
   "outputs": [],
   "source": [
    "html = urlopen(site)\n",
    "html_bs = bs(html, 'html.parser')"
   ]
  },
  {
   "cell_type": "code",
   "execution_count": 70,
   "metadata": {},
   "outputs": [
    {
     "data": {
      "text/plain": [
       "True"
      ]
     },
     "execution_count": 70,
     "metadata": {},
     "output_type": "execute_result"
    }
   ],
   "source": [
    "html_bs.descendents == None # 왜 descendents는 비어있는걸까? "
   ]
  },
  {
   "cell_type": "code",
   "execution_count": 55,
   "metadata": {},
   "outputs": [
    {
     "data": {
      "text/plain": [
       "bs4.element.Tag"
      ]
     },
     "execution_count": 55,
     "metadata": {},
     "output_type": "execute_result"
    }
   ],
   "source": [
    "soup = bs('<b class=\"boldest\">Extremely bold</b>')\n",
    "tag = soup.b\n",
    "type(tag)"
   ]
  },
  {
   "cell_type": "markdown",
   "metadata": {},
   "source": [
    "## 사이트의 한 게시글을 특정하기"
   ]
  },
  {
   "cell_type": "code",
   "execution_count": 78,
   "metadata": {},
   "outputs": [
    {
     "data": {
      "text/plain": [
       "['\\r\\n                    오큘 리프트s 블랙아웃 현상 때문에 고통받고 있네요                    ',\n",
       " '\\r\\n                    오큘러스 고를 받고 살짝 후회가 듭니다                    ',\n",
       " '\\r\\n                    오큘러스 리프트 S 구매해습니다.                    ']"
      ]
     },
     "execution_count": 78,
     "metadata": {},
     "output_type": "execute_result"
    }
   ],
   "source": [
    "cooln = html_bs.find_all(text=re.compile('오큘'))\n",
    "cooln"
   ]
  },
  {
   "cell_type": "code",
   "execution_count": 80,
   "metadata": {},
   "outputs": [
    {
     "data": {
      "text/plain": [
       "bs4.element.NavigableString"
      ]
     },
     "execution_count": 80,
     "metadata": {},
     "output_type": "execute_result"
    }
   ],
   "source": [
    "ocul = cooln[0]\n",
    "type(cooln[0])"
   ]
  },
  {
   "cell_type": "code",
   "execution_count": 93,
   "metadata": {},
   "outputs": [],
   "source": [
    "ocul.parent.parent.parent.parent.parent.parent.parent.parent.parent.parent.parent # <!DOCTYPE HTML> 까지 가면 bs object itself가 되고, 그보다 parent는 None이다. "
   ]
  },
  {
   "cell_type": "code",
   "execution_count": 95,
   "metadata": {},
   "outputs": [
    {
     "name": "stdout",
     "output_type": "stream",
     "text": [
      "a\n",
      "td\n",
      "tr\n",
      "tbody\n",
      "table\n",
      "div\n",
      "form\n",
      "div\n",
      "div\n",
      "[document]\n"
     ]
    }
   ],
   "source": [
    "for parent in ocul.parents:\n",
    "    if parent is None:\n",
    "        print(parent)\n",
    "    else:\n",
    "        print(parent.name)"
   ]
  },
  {
   "cell_type": "code",
   "execution_count": 100,
   "metadata": {},
   "outputs": [
    {
     "data": {
      "text/plain": [
       "['\\r\\n                    오큘 리프트s 블랙아웃 현상 때문에 고통받고 있네요                    ',\n",
       " '\\r\\n                    오큘러스 고를 받고 살짝 후회가 듭니다                    ',\n",
       " '\\r\\n                    오큘러스 리프트 S 구매해습니다.                    ']"
      ]
     },
     "execution_count": 100,
     "metadata": {},
     "output_type": "execute_result"
    }
   ],
   "source": [
    "ocul.parent.parent.parent.parent.find_all(text=re.compile('오큘'))"
   ]
  },
  {
   "cell_type": "markdown",
   "metadata": {},
   "source": [
    "## 한 게시글을 알았을 때, sibling을 구하기"
   ]
  },
  {
   "cell_type": "code",
   "execution_count": 101,
   "metadata": {},
   "outputs": [],
   "source": [
    "def find_common_ancestor(child):\n",
    "    for parent in child.parents:\n",
    "        if len(parent.find_all(text=re.compile('오큘'))) == 1:\n",
    "            continue\n",
    "        if len(parent.find_all(text=re.compile('오큘'))) > 1:\n",
    "            return parent\n",
    "        else:\n",
    "            print('Something went wrong.')\n",
    "            return"
   ]
  },
  {
   "cell_type": "code",
   "execution_count": 106,
   "metadata": {},
   "outputs": [
    {
     "data": {
      "text/plain": [
       "'tbody'"
      ]
     },
     "execution_count": 106,
     "metadata": {},
     "output_type": "execute_result"
    }
   ],
   "source": [
    "common_ancestor = find_common_ancestor(ocul)\n",
    "common_ancestor.name"
   ]
  },
  {
   "cell_type": "code",
   "execution_count": 114,
   "metadata": {},
   "outputs": [
    {
     "data": {
      "text/plain": [
       "'tr'"
      ]
     },
     "execution_count": 114,
     "metadata": {},
     "output_type": "execute_result"
    }
   ],
   "source": [
    "ocul.parent.parent.parent.parent.name\n",
    "common_ancestor_son = ocul.parent.parent.parent # commen ancestor 직후의 ancestor\n",
    "common_ancestor_son.name"
   ]
  },
  {
   "cell_type": "code",
   "execution_count": 115,
   "metadata": {
    "collapsed": true,
    "jupyter": {
     "outputs_hidden": true
    }
   },
   "outputs": [
    {
     "data": {
      "text/plain": [
       "[<tr class=\"\">\n",
       " <td class=\"td_num\">\n",
       " <i aria-hidden=\"true\" class=\"fa fa-question\"></i> 질문            </td>\n",
       " <td class=\"td_subject\">\n",
       " <a href=\"http://www.coolenjoy.net/bbs/40/7819\">\n",
       "                     오디세이G9 존버중인데 제 컴사양 너무 구릴까요?                                    </a>\n",
       " </td>\n",
       " <td class=\"td_name sv_use\"><img src=\"http://img.coolenjoy.net/image/o_n.gif\" style=\"vertical-align:middle\"/>  생선팔이</td>\n",
       " <td class=\"td_date\">20-01-08 </td>\n",
       " <td class=\"td_hit\">49</td>\n",
       " <td class=\"td_vote\"><div class=\"list_good\"><img src=\"http://www.coolenjoy.net/image/bbs/v0.gif\"/></div><div class=\"list_good2\"><b>0</b></div></td>\n",
       " </tr>, <tr class=\"\">\n",
       " <td class=\"td_num\">\n",
       " <i aria-hidden=\"true\" class=\"fa fa-question\"></i> 질문            </td>\n",
       " <td class=\"td_subject\">\n",
       " <a href=\"http://www.coolenjoy.net/bbs/40/7818\">\n",
       "                     밸브인덱스 한국출시하나요??                                    </a>\n",
       " </td>\n",
       " <td class=\"td_name sv_use\"><img src=\"http://img.coolenjoy.net/image/n8.gif\" style=\"vertical-align:middle\"/>  럽린</td>\n",
       " <td class=\"td_date\">20-01-07 </td>\n",
       " <td class=\"td_hit\">35</td>\n",
       " <td class=\"td_vote\"><div class=\"list_good\"><img src=\"http://www.coolenjoy.net/image/bbs/v0.gif\"/></div><div class=\"list_good2\"><b>0</b></div></td>\n",
       " </tr>, <tr class=\"\">\n",
       " <td class=\"td_num\">\n",
       "             평가            </td>\n",
       " <td class=\"td_subject\">\n",
       " <a href=\"http://www.coolenjoy.net/bbs/40/7816\">\n",
       "                     오큘 리프트s 블랙아웃 현상 때문에 고통받고 있네요                    <span class=\"sound_only\">댓글</span><span class=\"cnt_cmt\">[1]</span><span class=\"sound_only\">개</span> </a>\n",
       " </td>\n",
       " <td class=\"td_name sv_use\"><img src=\"http://img.coolenjoy.net/image/n12.gif\" style=\"vertical-align:middle\"/>  비소리</td>\n",
       " <td class=\"td_date\">20-01-06 </td>\n",
       " <td class=\"td_hit\">56</td>\n",
       " <td class=\"td_vote\"><div class=\"list_good\"><img src=\"http://www.coolenjoy.net/image/bbs/v0.gif\"/></div><div class=\"list_good2\"><b>0</b></div></td>\n",
       " </tr>, <tr class=\"\">\n",
       " <td class=\"td_num\">\n",
       " <i aria-hidden=\"true\" class=\"fa fa-question\"></i> 질문            </td>\n",
       " <td class=\"td_subject\">\n",
       " <a href=\"http://www.coolenjoy.net/bbs/40/7815\">\n",
       "                     vive hdmi 연결했는데 연결 안됐다 뜹니다.                                    </a>\n",
       " </td>\n",
       " <td class=\"td_name sv_use\"><img src=\"http://img.coolenjoy.net/image/n12.gif\" style=\"vertical-align:middle\"/>  드디어샀니</td>\n",
       " <td class=\"td_date\">19-12-31 </td>\n",
       " <td class=\"td_hit\">56</td>\n",
       " <td class=\"td_vote\"><div class=\"list_good\"><img src=\"http://www.coolenjoy.net/image/bbs/v0.gif\"/></div><div class=\"list_good2\"><b>0</b></div></td>\n",
       " </tr>, <tr class=\"\">\n",
       " <td class=\"td_num\">\n",
       " <font color=\"#777777\">답변완료</font> </td>\n",
       " <td class=\"td_subject\">\n",
       " <a href=\"http://www.coolenjoy.net/bbs/40/7802\">\n",
       "                     파이맥스 8K ,영화감상용으론 4K 프로젝터 150인치 보다 나을까요?                    <span class=\"sound_only\">댓글</span><span class=\"cnt_cmt\">[3]</span><span class=\"sound_only\">개</span> </a>\n",
       " <i aria-hidden=\"true\" class=\"fa fa-picture-o\"></i> </td>\n",
       " <td class=\"td_name sv_use\"><img src=\"http://img.coolenjoy.net/image/n_9.gif\" style=\"vertical-align:middle\"/>  홍실짱</td>\n",
       " <td class=\"td_date\">19-12-20 </td>\n",
       " <td class=\"td_hit\">561</td>\n",
       " <td class=\"td_vote\"><div class=\"list_good\"><img src=\"http://www.coolenjoy.net/image/bbs/v0.gif\"/></div><div class=\"list_good2\"><b>0</b></div></td>\n",
       " </tr>, <tr class=\"\">\n",
       " <td class=\"td_num\">\n",
       " <font color=\"#777777\">답변완료</font> </td>\n",
       " <td class=\"td_subject\">\n",
       " <a href=\"http://www.coolenjoy.net/bbs/40/7801\">\n",
       "                     오딧세이 플러스를 사려고하는데요                    <span class=\"sound_only\">댓글</span><span class=\"cnt_cmt\">[2]</span><span class=\"sound_only\">개</span> </a>\n",
       " </td>\n",
       " <td class=\"td_name sv_use\"><img src=\"http://img.coolenjoy.net/image/o_n.gif\" style=\"vertical-align:middle\"/>  마르무무</td>\n",
       " <td class=\"td_date\">19-12-20 </td>\n",
       " <td class=\"td_hit\">277</td>\n",
       " <td class=\"td_vote\"><div class=\"list_good\"><img src=\"http://www.coolenjoy.net/image/bbs/v0.gif\"/></div><div class=\"list_good2\"><b>0</b></div></td>\n",
       " </tr>, <tr class=\"\">\n",
       " <td class=\"td_num\">\n",
       " <i aria-hidden=\"true\" class=\"fa fa-question\"></i> 질문            </td>\n",
       " <td class=\"td_subject\">\n",
       " <a href=\"http://www.coolenjoy.net/bbs/40/7797\">\n",
       "                     VR 오디세이 플러스 샀습니다.                    <span class=\"sound_only\">댓글</span><span class=\"cnt_cmt\">[6]</span><span class=\"sound_only\">개</span> </a>\n",
       " </td>\n",
       " <td class=\"td_name sv_use\"><img src=\"http://img.coolenjoy.net/image/n1.gif\" style=\"vertical-align:middle\"/>  예인papa</td>\n",
       " <td class=\"td_date\">19-12-11 </td>\n",
       " <td class=\"td_hit\">899</td>\n",
       " <td class=\"td_vote\"><div class=\"list_good\"><img src=\"http://www.coolenjoy.net/image/bbs/v0.gif\"/></div><div class=\"list_good2\"><b>0</b></div></td>\n",
       " </tr>, <tr class=\"\">\n",
       " <td class=\"td_num\">\n",
       " <font color=\"#777777\">답변완료</font> </td>\n",
       " <td class=\"td_subject\">\n",
       " <a href=\"http://www.coolenjoy.net/bbs/40/7795\">\n",
       "                     pico 4k 괜찮나요?                    <span class=\"sound_only\">댓글</span><span class=\"cnt_cmt\">[2]</span><span class=\"sound_only\">개</span> </a>\n",
       " </td>\n",
       " <td class=\"td_name sv_use\"><img src=\"http://img.coolenjoy.net/image/n_3.gif\" style=\"vertical-align:middle\"/>  니모한마리</td>\n",
       " <td class=\"td_date\">19-12-09 </td>\n",
       " <td class=\"td_hit\">437</td>\n",
       " <td class=\"td_vote\"><div class=\"list_good\"><img src=\"http://www.coolenjoy.net/image/bbs/v0.gif\"/></div><div class=\"list_good2\"><b>0</b></div></td>\n",
       " </tr>, <tr class=\"\">\n",
       " <td class=\"td_num\">\n",
       "             잡담            </td>\n",
       " <td class=\"td_subject\">\n",
       " <a href=\"http://www.coolenjoy.net/bbs/40/7786\">\n",
       "                     오큘러스 고를 받고 살짝 후회가 듭니다                    <span class=\"sound_only\">댓글</span><span class=\"cnt_cmt\">[2]</span><span class=\"sound_only\">개</span> </a>\n",
       " </td>\n",
       " <td class=\"td_name sv_use\"><img src=\"http://img.coolenjoy.net/image/n_9.gif\" style=\"vertical-align:middle\"/>  을게러</td>\n",
       " <td class=\"td_date\">19-12-06 </td>\n",
       " <td class=\"td_hit\">935</td>\n",
       " <td class=\"td_vote\"><div class=\"list_good\"><img src=\"http://www.coolenjoy.net/image/bbs/v0.gif\"/></div><div class=\"list_good2\"><b>0</b></div></td>\n",
       " </tr>, <tr class=\"\">\n",
       " <td class=\"td_num\">\n",
       " <i aria-hidden=\"true\" class=\"fa fa-question\"></i> 질문            </td>\n",
       " <td class=\"td_subject\">\n",
       " <a href=\"http://www.coolenjoy.net/bbs/40/7785\">\n",
       "                     vive pro 무선 어뎁터 질문요..                    <span class=\"sound_only\">댓글</span><span class=\"cnt_cmt\">[2]</span><span class=\"sound_only\">개</span> </a>\n",
       " </td>\n",
       " <td class=\"td_name sv_use\"><img src=\"http://img.coolenjoy.net/image/n12.gif\" style=\"vertical-align:middle\"/>  섭러뷔</td>\n",
       " <td class=\"td_date\">19-12-03 </td>\n",
       " <td class=\"td_hit\">300</td>\n",
       " <td class=\"td_vote\"><div class=\"list_good\"><img src=\"http://www.coolenjoy.net/image/bbs/v0.gif\"/></div><div class=\"list_good2\"><b>0</b></div></td>\n",
       " </tr>, <tr class=\"\">\n",
       " <td class=\"td_num\">\n",
       " <i aria-hidden=\"true\" class=\"fa fa-question\"></i> 질문            </td>\n",
       " <td class=\"td_subject\">\n",
       " <a href=\"http://www.coolenjoy.net/bbs/40/7777\">\n",
       "                     오디세이 VR 세팅방법 제가 인지한게 맞을까요?                                    </a>\n",
       " <i aria-hidden=\"true\" class=\"fa fa-picture-o\"></i> </td>\n",
       " <td class=\"td_name sv_use\"><img src=\"http://img.coolenjoy.net/image/n_9.gif\" style=\"vertical-align:middle\"/>  트레뷔</td>\n",
       " <td class=\"td_date\">19-11-29 </td>\n",
       " <td class=\"td_hit\">464</td>\n",
       " <td class=\"td_vote\"><div class=\"list_good\"><img src=\"http://www.coolenjoy.net/image/bbs/v0.gif\"/></div><div class=\"list_good2\"><b>0</b></div></td>\n",
       " </tr>, <tr class=\"\">\n",
       " <td class=\"td_num\">\n",
       "             잡담            </td>\n",
       " <td class=\"td_subject\">\n",
       " <a href=\"http://www.coolenjoy.net/bbs/40/7759\">\n",
       "                     오디세이 플러스 구매했는데.. 조언 해주세요.ㅋㅋ                    <span class=\"sound_only\">댓글</span><span class=\"cnt_cmt\">[12]</span><span class=\"sound_only\">개</span> </a>\n",
       " </td>\n",
       " <td class=\"td_name sv_use\"><img src=\"http://img.coolenjoy.net/image/n_3.gif\" style=\"vertical-align:middle\"/>  니모한마리</td>\n",
       " <td class=\"td_date\">19-11-25 </td>\n",
       " <td class=\"td_hit\">932</td>\n",
       " <td class=\"td_vote\"><div class=\"list_good\"><img src=\"http://www.coolenjoy.net/image/bbs/v0.gif\"/></div><div class=\"list_good2\"><b>0</b></div></td>\n",
       " </tr>, <tr class=\"\">\n",
       " <td class=\"td_num\">\n",
       "             잡담            </td>\n",
       " <td class=\"td_subject\">\n",
       " <a href=\"http://www.coolenjoy.net/bbs/40/7755\">\n",
       "                     리버브로 영상보니까 뻥 쪼금 치면                    <span class=\"sound_only\">댓글</span><span class=\"cnt_cmt\">[3]</span><span class=\"sound_only\">개</span> </a>\n",
       " </td>\n",
       " <td class=\"td_name sv_use\"><img src=\"http://img.coolenjoy.net/image/n10.gif\" style=\"vertical-align:middle\"/>  오똑이</td>\n",
       " <td class=\"td_date\">19-11-23 </td>\n",
       " <td class=\"td_hit\">1018</td>\n",
       " <td class=\"td_vote\"><div class=\"list_good\"><img src=\"http://www.coolenjoy.net/image/bbs/v1.gif\"/></div><div class=\"list_good2\"><b>1</b></div></td>\n",
       " </tr>, <tr class=\"\">\n",
       " <td class=\"td_num\">\n",
       "             평가            </td>\n",
       " <td class=\"td_subject\">\n",
       " <a href=\"http://www.coolenjoy.net/bbs/40/7751\">\n",
       "                     오큘러스 리프트 S 구매해습니다.                    <span class=\"sound_only\">댓글</span><span class=\"cnt_cmt\">[1]</span><span class=\"sound_only\">개</span> </a>\n",
       " </td>\n",
       " <td class=\"td_name sv_use\"><img src=\"http://img.coolenjoy.net/image/n10.gif\" style=\"vertical-align:middle\"/>  이기로</td>\n",
       " <td class=\"td_date\">19-11-21 </td>\n",
       " <td class=\"td_hit\">684</td>\n",
       " <td class=\"td_vote\"><div class=\"list_good\"><img src=\"http://www.coolenjoy.net/image/bbs/v0.gif\"/></div><div class=\"list_good2\"><b>0</b></div></td>\n",
       " </tr>, <tr class=\"\">\n",
       " <td class=\"td_num\">\n",
       "             잡담            </td>\n",
       " <td class=\"td_subject\">\n",
       " <a href=\"http://www.coolenjoy.net/bbs/40/7743\">\n",
       "                     인덱스 고민하다 결국 바이브 질렀습니다.                    <span class=\"sound_only\">댓글</span><span class=\"cnt_cmt\">[3]</span><span class=\"sound_only\">개</span> </a>\n",
       " </td>\n",
       " <td class=\"td_name sv_use\"><img src=\"http://img.coolenjoy.net/image/n1.gif\" style=\"vertical-align:middle\"/>  expertnvi</td>\n",
       " <td class=\"td_date\">19-11-20 </td>\n",
       " <td class=\"td_hit\">649</td>\n",
       " <td class=\"td_vote\"><div class=\"list_good\"><img src=\"http://www.coolenjoy.net/image/bbs/v0.gif\"/></div><div class=\"list_good2\"><b>0</b></div></td>\n",
       " </tr>, <tr class=\"\">\n",
       " <td class=\"td_num\">\n",
       " <font color=\"#777777\">답변완료</font> </td>\n",
       " <td class=\"td_subject\">\n",
       " <a href=\"http://www.coolenjoy.net/bbs/40/7741\">\n",
       "                     레노버mr사용중입니다. steamvr이 자꾸 오류가납니다                    <span class=\"sound_only\">댓글</span><span class=\"cnt_cmt\">[6]</span><span class=\"sound_only\">개</span> </a>\n",
       " <i aria-hidden=\"true\" class=\"fa fa-picture-o\"></i> </td>\n",
       " <td class=\"td_name sv_use\"><img src=\"http://img.coolenjoy.net/image/n12.gif\" style=\"vertical-align:middle\"/>  hazuki</td>\n",
       " <td class=\"td_date\">19-11-19 </td>\n",
       " <td class=\"td_hit\">342</td>\n",
       " <td class=\"td_vote\"><div class=\"list_good\"><img src=\"http://www.coolenjoy.net/image/bbs/v0.gif\"/></div><div class=\"list_good2\"><b>0</b></div></td>\n",
       " </tr>, <tr class=\"\">\n",
       " <td class=\"td_num\">\n",
       " <i aria-hidden=\"true\" class=\"fa fa-question\"></i> 질문            </td>\n",
       " <td class=\"td_subject\">\n",
       " <a href=\"http://www.coolenjoy.net/bbs/40/7740\">\n",
       "                     지금 아마존에서 vr 직구로 살만할까요?                    <span class=\"sound_only\">댓글</span><span class=\"cnt_cmt\">[1]</span><span class=\"sound_only\">개</span> </a>\n",
       " </td>\n",
       " <td class=\"td_name sv_use\"><img src=\"http://img.coolenjoy.net/image/n12.gif\" style=\"vertical-align:middle\"/>  김커츠</td>\n",
       " <td class=\"td_date\">19-11-18 </td>\n",
       " <td class=\"td_hit\">756</td>\n",
       " <td class=\"td_vote\"><div class=\"list_good\"><img src=\"http://www.coolenjoy.net/image/bbs/v0.gif\"/></div><div class=\"list_good2\"><b>0</b></div></td>\n",
       " </tr>, <tr class=\"\">\n",
       " <td class=\"td_num\">\n",
       " <font color=\"#777777\">답변완료</font> </td>\n",
       " <td class=\"td_subject\">\n",
       " <a href=\"http://www.coolenjoy.net/bbs/40/7732\">\n",
       "                     vr을 사려는데요                    <span class=\"sound_only\">댓글</span><span class=\"cnt_cmt\">[2]</span><span class=\"sound_only\">개</span> </a>\n",
       " </td>\n",
       " <td class=\"td_name sv_use\"><img src=\"http://img.coolenjoy.net/image/o_n.gif\" style=\"vertical-align:middle\"/>  adja</td>\n",
       " <td class=\"td_date\">19-11-11 </td>\n",
       " <td class=\"td_hit\">845</td>\n",
       " <td class=\"td_vote\"><div class=\"list_good\"><img src=\"http://www.coolenjoy.net/image/bbs/v0.gif\"/></div><div class=\"list_good2\"><b>0</b></div></td>\n",
       " </tr>, <tr class=\"\">\n",
       " <td class=\"td_num\">\n",
       " <i aria-hidden=\"true\" class=\"fa fa-question\"></i> 질문            </td>\n",
       " <td class=\"td_subject\">\n",
       " <a href=\"http://www.coolenjoy.net/bbs/40/7729\">\n",
       "                     파이맥스4k로 유투브 어떻게 보나요?                    <span class=\"sound_only\">댓글</span><span class=\"cnt_cmt\">[3]</span><span class=\"sound_only\">개</span> </a>\n",
       " </td>\n",
       " <td class=\"td_name sv_use\"><img src=\"http://img.coolenjoy.net/image/n12.gif\" style=\"vertical-align:middle\"/>  행복하세</td>\n",
       " <td class=\"td_date\">19-11-10 </td>\n",
       " <td class=\"td_hit\">497</td>\n",
       " <td class=\"td_vote\"><div class=\"list_good\"><img src=\"http://www.coolenjoy.net/image/bbs/v0.gif\"/></div><div class=\"list_good2\"><b>0</b></div></td>\n",
       " </tr>, <tr class=\"\">\n",
       " <td class=\"td_num\">\n",
       " <font color=\"#777777\">답변완료</font> </td>\n",
       " <td class=\"td_subject\">\n",
       " <a href=\"http://www.coolenjoy.net/bbs/40/7727\">\n",
       "                     안녕하세요, 혹시 VR 케이블 연장 성공하신 분 계신가요?                    <span class=\"sound_only\">댓글</span><span class=\"cnt_cmt\">[3]</span><span class=\"sound_only\">개</span> </a>\n",
       " </td>\n",
       " <td class=\"td_name sv_use\"><img src=\"http://img.coolenjoy.net/image/n1.gif\" style=\"vertical-align:middle\"/>  expertnvi</td>\n",
       " <td class=\"td_date\">19-11-09 </td>\n",
       " <td class=\"td_hit\">420</td>\n",
       " <td class=\"td_vote\"><div class=\"list_good\"><img src=\"http://www.coolenjoy.net/image/bbs/v0.gif\"/></div><div class=\"list_good2\"><b>0</b></div></td>\n",
       " </tr>, <tr class=\"\">\n",
       " <td class=\"td_num\">\n",
       "             잡담            </td>\n",
       " <td class=\"td_subject\">\n",
       " <a href=\"http://www.coolenjoy.net/bbs/40/7722\">\n",
       "                     스팀 설문조사(시스템 정보 수집)에 참여 했는데...                    <span class=\"sound_only\">댓글</span><span class=\"cnt_cmt\">[3]</span><span class=\"sound_only\">개</span> </a>\n",
       " </td>\n",
       " <td class=\"td_name sv_use\"><img src=\"http://img.coolenjoy.net/image/n9.gif\" style=\"vertical-align:middle\"/>  無限の劍製</td>\n",
       " <td class=\"td_date\">19-11-06 </td>\n",
       " <td class=\"td_hit\">406</td>\n",
       " <td class=\"td_vote\"><div class=\"list_good\"><img src=\"http://www.coolenjoy.net/image/bbs/v0.gif\"/></div><div class=\"list_good2\"><b>0</b></div></td>\n",
       " </tr>, <tr class=\"\">\n",
       " <td class=\"td_num\">\n",
       " <font color=\"#777777\">답변완료</font> </td>\n",
       " <td class=\"td_subject\">\n",
       " <a href=\"http://www.coolenjoy.net/bbs/40/7712\">\n",
       "                     vr 기기중 가장 화질좋고 성능 좋은 기기가 뭔가요                    <span class=\"sound_only\">댓글</span><span class=\"cnt_cmt\">[3]</span><span class=\"sound_only\">개</span> </a>\n",
       " </td>\n",
       " <td class=\"td_name sv_use\"><img src=\"http://img.coolenjoy.net/image/n10.gif\" style=\"vertical-align:middle\"/>  오똑이</td>\n",
       " <td class=\"td_date\">19-10-29 </td>\n",
       " <td class=\"td_hit\">1877</td>\n",
       " <td class=\"td_vote\"><div class=\"list_good\"><img src=\"http://www.coolenjoy.net/image/bbs/v0.gif\"/></div><div class=\"list_good2\"><b>0</b></div></td>\n",
       " </tr>, <tr class=\"\">\n",
       " <td class=\"td_num\">\n",
       " <i aria-hidden=\"true\" class=\"fa fa-question\"></i> 질문            </td>\n",
       " <td class=\"td_subject\">\n",
       " <a href=\"http://www.coolenjoy.net/bbs/40/7709\">\n",
       "                     htc vive 베이스스테이션 스텐드는 뭐가 싸고 좋나요?                    <span class=\"sound_only\">댓글</span><span class=\"cnt_cmt\">[3]</span><span class=\"sound_only\">개</span> </a>\n",
       " </td>\n",
       " <td class=\"td_name sv_use\"><img src=\"http://img.coolenjoy.net/image/n_9.gif\" style=\"vertical-align:middle\"/>  구급함</td>\n",
       " <td class=\"td_date\">19-10-28 </td>\n",
       " <td class=\"td_hit\">394</td>\n",
       " <td class=\"td_vote\"><div class=\"list_good\"><img src=\"http://www.coolenjoy.net/image/bbs/v0.gif\"/></div><div class=\"list_good2\"><b>0</b></div></td>\n",
       " </tr>, <tr class=\"\">\n",
       " <td class=\"td_num\">\n",
       " <font color=\"#777777\">답변완료</font> </td>\n",
       " <td class=\"td_subject\">\n",
       " <a href=\"http://www.coolenjoy.net/bbs/40/7704\">\n",
       "                     요즘 vr 멀미 많이 개선되었나요?                    <span class=\"sound_only\">댓글</span><span class=\"cnt_cmt\">[6]</span><span class=\"sound_only\">개</span> </a>\n",
       " </td>\n",
       " <td class=\"td_name sv_use\"><img src=\"http://img.coolenjoy.net/image/n7.gif\" style=\"vertical-align:middle\"/>  호떡맨</td>\n",
       " <td class=\"td_date\">19-10-27 </td>\n",
       " <td class=\"td_hit\">1116</td>\n",
       " <td class=\"td_vote\"><div class=\"list_good\"><img src=\"http://www.coolenjoy.net/image/bbs/v0.gif\"/></div><div class=\"list_good2\"><b>0</b></div></td>\n",
       " </tr>, <tr class=\"\">\n",
       " <td class=\"td_num\">\n",
       "             잡담            </td>\n",
       " <td class=\"td_subject\">\n",
       " <a href=\"http://www.coolenjoy.net/bbs/40/7703\">\n",
       "                     VIVE -&gt; Index 호환성 기록 및 소감                    <span class=\"sound_only\">댓글</span><span class=\"cnt_cmt\">[1]</span><span class=\"sound_only\">개</span> </a>\n",
       " <i aria-hidden=\"true\" class=\"fa fa-picture-o\"></i> </td>\n",
       " <td class=\"td_name sv_use\"><img src=\"http://img.coolenjoy.net/image/n9.gif\" style=\"vertical-align:middle\"/>  JKGP</td>\n",
       " <td class=\"td_date\">19-10-26 </td>\n",
       " <td class=\"td_hit\">756</td>\n",
       " <td class=\"td_vote\"><div class=\"list_good\"><img src=\"http://www.coolenjoy.net/image/bbs/v1.gif\"/></div><div class=\"list_good2\"><b>1</b></div></td>\n",
       " </tr>]"
      ]
     },
     "execution_count": 115,
     "metadata": {},
     "output_type": "execute_result"
    }
   ],
   "source": [
    "common_ancestor.find_all('{}'.format(common_ancestor_son.name))"
   ]
  },
  {
   "cell_type": "markdown",
   "metadata": {},
   "source": [
    "## 모든 sibling 내용만 구하기 "
   ]
  },
  {
   "cell_type": "code",
   "execution_count": 95,
   "metadata": {},
   "outputs": [
    {
     "name": "stdout",
     "output_type": "stream",
     "text": [
      "a\n",
      "td\n",
      "tr\n",
      "tbody\n",
      "table\n",
      "div\n",
      "form\n",
      "div\n",
      "div\n",
      "[document]\n"
     ]
    }
   ],
   "source": [
    "for parent in ocul.parents:\n",
    "    if parent is None:\n",
    "        print(parent)\n",
    "    else:\n",
    "        print(parent.name)"
   ]
  },
  {
   "cell_type": "code",
   "execution_count": 121,
   "metadata": {
    "collapsed": true,
    "jupyter": {
     "outputs_hidden": true
    }
   },
   "outputs": [
    {
     "data": {
      "text/plain": [
       "[<a href=\"http://www.coolenjoy.net/bbs/40/7819\">\n",
       "                     오디세이G9 존버중인데 제 컴사양 너무 구릴까요?                                    </a>,\n",
       " <a href=\"http://www.coolenjoy.net/bbs/40/7818\">\n",
       "                     밸브인덱스 한국출시하나요??                                    </a>,\n",
       " <a href=\"http://www.coolenjoy.net/bbs/40/7816\">\n",
       "                     오큘 리프트s 블랙아웃 현상 때문에 고통받고 있네요                    <span class=\"sound_only\">댓글</span><span class=\"cnt_cmt\">[1]</span><span class=\"sound_only\">개</span> </a>,\n",
       " <a href=\"http://www.coolenjoy.net/bbs/40/7815\">\n",
       "                     vive hdmi 연결했는데 연결 안됐다 뜹니다.                                    </a>,\n",
       " <a href=\"http://www.coolenjoy.net/bbs/40/7802\">\n",
       "                     파이맥스 8K ,영화감상용으론 4K 프로젝터 150인치 보다 나을까요?                    <span class=\"sound_only\">댓글</span><span class=\"cnt_cmt\">[3]</span><span class=\"sound_only\">개</span> </a>,\n",
       " <a href=\"http://www.coolenjoy.net/bbs/40/7801\">\n",
       "                     오딧세이 플러스를 사려고하는데요                    <span class=\"sound_only\">댓글</span><span class=\"cnt_cmt\">[2]</span><span class=\"sound_only\">개</span> </a>,\n",
       " <a href=\"http://www.coolenjoy.net/bbs/40/7797\">\n",
       "                     VR 오디세이 플러스 샀습니다.                    <span class=\"sound_only\">댓글</span><span class=\"cnt_cmt\">[6]</span><span class=\"sound_only\">개</span> </a>,\n",
       " <a href=\"http://www.coolenjoy.net/bbs/40/7795\">\n",
       "                     pico 4k 괜찮나요?                    <span class=\"sound_only\">댓글</span><span class=\"cnt_cmt\">[2]</span><span class=\"sound_only\">개</span> </a>,\n",
       " <a href=\"http://www.coolenjoy.net/bbs/40/7786\">\n",
       "                     오큘러스 고를 받고 살짝 후회가 듭니다                    <span class=\"sound_only\">댓글</span><span class=\"cnt_cmt\">[2]</span><span class=\"sound_only\">개</span> </a>,\n",
       " <a href=\"http://www.coolenjoy.net/bbs/40/7785\">\n",
       "                     vive pro 무선 어뎁터 질문요..                    <span class=\"sound_only\">댓글</span><span class=\"cnt_cmt\">[2]</span><span class=\"sound_only\">개</span> </a>,\n",
       " <a href=\"http://www.coolenjoy.net/bbs/40/7777\">\n",
       "                     오디세이 VR 세팅방법 제가 인지한게 맞을까요?                                    </a>,\n",
       " <a href=\"http://www.coolenjoy.net/bbs/40/7759\">\n",
       "                     오디세이 플러스 구매했는데.. 조언 해주세요.ㅋㅋ                    <span class=\"sound_only\">댓글</span><span class=\"cnt_cmt\">[12]</span><span class=\"sound_only\">개</span> </a>,\n",
       " <a href=\"http://www.coolenjoy.net/bbs/40/7755\">\n",
       "                     리버브로 영상보니까 뻥 쪼금 치면                    <span class=\"sound_only\">댓글</span><span class=\"cnt_cmt\">[3]</span><span class=\"sound_only\">개</span> </a>,\n",
       " <a href=\"http://www.coolenjoy.net/bbs/40/7751\">\n",
       "                     오큘러스 리프트 S 구매해습니다.                    <span class=\"sound_only\">댓글</span><span class=\"cnt_cmt\">[1]</span><span class=\"sound_only\">개</span> </a>,\n",
       " <a href=\"http://www.coolenjoy.net/bbs/40/7743\">\n",
       "                     인덱스 고민하다 결국 바이브 질렀습니다.                    <span class=\"sound_only\">댓글</span><span class=\"cnt_cmt\">[3]</span><span class=\"sound_only\">개</span> </a>,\n",
       " <a href=\"http://www.coolenjoy.net/bbs/40/7741\">\n",
       "                     레노버mr사용중입니다. steamvr이 자꾸 오류가납니다                    <span class=\"sound_only\">댓글</span><span class=\"cnt_cmt\">[6]</span><span class=\"sound_only\">개</span> </a>,\n",
       " <a href=\"http://www.coolenjoy.net/bbs/40/7740\">\n",
       "                     지금 아마존에서 vr 직구로 살만할까요?                    <span class=\"sound_only\">댓글</span><span class=\"cnt_cmt\">[1]</span><span class=\"sound_only\">개</span> </a>,\n",
       " <a href=\"http://www.coolenjoy.net/bbs/40/7732\">\n",
       "                     vr을 사려는데요                    <span class=\"sound_only\">댓글</span><span class=\"cnt_cmt\">[2]</span><span class=\"sound_only\">개</span> </a>,\n",
       " <a href=\"http://www.coolenjoy.net/bbs/40/7729\">\n",
       "                     파이맥스4k로 유투브 어떻게 보나요?                    <span class=\"sound_only\">댓글</span><span class=\"cnt_cmt\">[3]</span><span class=\"sound_only\">개</span> </a>,\n",
       " <a href=\"http://www.coolenjoy.net/bbs/40/7727\">\n",
       "                     안녕하세요, 혹시 VR 케이블 연장 성공하신 분 계신가요?                    <span class=\"sound_only\">댓글</span><span class=\"cnt_cmt\">[3]</span><span class=\"sound_only\">개</span> </a>,\n",
       " <a href=\"http://www.coolenjoy.net/bbs/40/7722\">\n",
       "                     스팀 설문조사(시스템 정보 수집)에 참여 했는데...                    <span class=\"sound_only\">댓글</span><span class=\"cnt_cmt\">[3]</span><span class=\"sound_only\">개</span> </a>,\n",
       " <a href=\"http://www.coolenjoy.net/bbs/40/7712\">\n",
       "                     vr 기기중 가장 화질좋고 성능 좋은 기기가 뭔가요                    <span class=\"sound_only\">댓글</span><span class=\"cnt_cmt\">[3]</span><span class=\"sound_only\">개</span> </a>,\n",
       " <a href=\"http://www.coolenjoy.net/bbs/40/7709\">\n",
       "                     htc vive 베이스스테이션 스텐드는 뭐가 싸고 좋나요?                    <span class=\"sound_only\">댓글</span><span class=\"cnt_cmt\">[3]</span><span class=\"sound_only\">개</span> </a>,\n",
       " <a href=\"http://www.coolenjoy.net/bbs/40/7704\">\n",
       "                     요즘 vr 멀미 많이 개선되었나요?                    <span class=\"sound_only\">댓글</span><span class=\"cnt_cmt\">[6]</span><span class=\"sound_only\">개</span> </a>,\n",
       " <a href=\"http://www.coolenjoy.net/bbs/40/7703\">\n",
       "                     VIVE -&gt; Index 호환성 기록 및 소감                    <span class=\"sound_only\">댓글</span><span class=\"cnt_cmt\">[1]</span><span class=\"sound_only\">개</span> </a>]"
      ]
     },
     "execution_count": 121,
     "metadata": {},
     "output_type": "execute_result"
    }
   ],
   "source": [
    "common_ancestor.select('tr>td>a') # CSS selector path로 원하는 것만 고른다. common_ancestor 이전의 것을 list로 저장하는 과정 필요. "
   ]
  },
  {
   "cell_type": "code",
   "execution_count": null,
   "metadata": {},
   "outputs": [],
   "source": []
  }
 ],
 "metadata": {
  "kernelspec": {
   "display_name": "Python 3",
   "language": "python",
   "name": "python3"
  },
  "language_info": {
   "codemirror_mode": {
    "name": "ipython",
    "version": 3
   },
   "file_extension": ".py",
   "mimetype": "text/x-python",
   "name": "python",
   "nbconvert_exporter": "python",
   "pygments_lexer": "ipython3",
   "version": "3.7.5"
  }
 },
 "nbformat": 4,
 "nbformat_minor": 4
}
