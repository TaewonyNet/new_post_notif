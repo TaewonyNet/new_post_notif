{
 "cells": [
  {
   "cell_type": "markdown",
   "metadata": {},
   "source": [
    "# 변화 감지기\n",
    "\n",
    "주기적으로 웹사이트에서 무엇이 변했는지 감지한다. "
   ]
  },
  {
   "cell_type": "code",
   "execution_count": 6,
   "metadata": {},
   "outputs": [],
   "source": [
    "from urllib.request import urlopen\n",
    "from urllib.error import HTTPError\n",
    "from urllib.error import URLError\n",
    "\n",
    "from bs4 import BeautifulSoup as bs"
   ]
  },
  {
   "cell_type": "code",
   "execution_count": 7,
   "metadata": {},
   "outputs": [],
   "source": [
    "import difflib"
   ]
  },
  {
   "cell_type": "code",
   "execution_count": 20,
   "metadata": {},
   "outputs": [],
   "source": [
    "target_sites = ['https://gall.dcinside.com/mgallery/board/lists/?id=momoreawqa', 'https://ddd.com']"
   ]
  },
  {
   "cell_type": "code",
   "execution_count": 21,
   "metadata": {},
   "outputs": [],
   "source": [
    "def error_checker(site):\n",
    "    try:\n",
    "        html = urlopen(site)\n",
    "    except HTTPError as e:\n",
    "        print(site, \"The server returned an HTTP error, \", e)\n",
    "        return 1\n",
    "    except URLError as e:\n",
    "        print(site, \"The server could not be found. \", e)\n",
    "        return 1\n",
    "    else: # Success\n",
    "        return 0"
   ]
  },
  {
   "cell_type": "code",
   "execution_count": 26,
   "metadata": {},
   "outputs": [
    {
     "name": "stdout",
     "output_type": "stream",
     "text": [
      "https://ddd.com The server could not be found.  <urlopen error [Errno 11001] getaddrinfo failed>\n"
     ]
    },
    {
     "data": {
      "text/plain": [
       "['https://gall.dcinside.com/mgallery/board/lists/?id=momoreawqa']"
      ]
     },
     "execution_count": 26,
     "metadata": {},
     "output_type": "execute_result"
    }
   ],
   "source": [
    "filtered_target_sites = list(map(lambda x: x if error_checker(x)==0 else None, target_sites))\n",
    "filtered_target_sites = list(filter(None, filtered_target_sites))\n",
    "filtered_target_sites"
   ]
  }
 ],
 "metadata": {
  "kernelspec": {
   "display_name": "Python 3",
   "language": "python",
   "name": "python3"
  },
  "language_info": {
   "codemirror_mode": {
    "name": "ipython",
    "version": 3
   },
   "file_extension": ".py",
   "mimetype": "text/x-python",
   "name": "python",
   "nbconvert_exporter": "python",
   "pygments_lexer": "ipython3",
   "version": "3.7.5"
  }
 },
 "nbformat": 4,
 "nbformat_minor": 4
}
