{
 "cells": [
  {
   "cell_type": "code",
   "execution_count": 1,
   "metadata": {},
   "outputs": [],
   "source": [
    "from urllib.request import urlopen\n",
    "from urllib.error import HTTPError\n",
    "from urllib.error import URLError\n",
    "\n",
    "from bs4 import BeautifulSoup as bs\n",
    "import soupsieve as sv"
   ]
  },
  {
   "cell_type": "markdown",
   "metadata": {},
   "source": [
    "### Concept\n",
    "\n",
    "각 사이트의 글/댓글이 달리면 실시간으로 알람을 해준다. \n",
    "글/댓글이 올라왔는지 알려주는 것은 사이트에서 기본 제공하지 않는 이상 받기 힘들고, 제공하더라도 웹사이트 내 알림으로 끝나는 것이 대다수이다. \n",
    "따라서 사이트에 상관없이 각 사이트 게시판의 최근 3개 post의 css selector 정보만 입력 받으면 여기서 패턴을 찾아 내 해당 페이지에서 새로운 post나 comment가 업데이트 되는지 확인한다. \n",
    "업데이트가 확인되면 Django web server에서 android notification을 보낼 수 있게 한다. \n",
    "\n",
    "### Challenges\n",
    "\n",
    "- False-Positive, False-Negative 문제. 새로운 글이 올라온 것이 아닌데 올라왔다고 알려주는 false-positive 상황과 새로운 글이 올라왔는데 안올라온 줄 알고 알려주지 않는 false-negative를 비교하면 후자가 더 심각한 상황이므로 type 2 error을 최소화해야 한다. \n",
    "- Browser에 따라 css selector가 달라질 수 있다. 일단 Chrome을 기준으로 만들되, 추후 firefox, internet explorer 등의 지원을 추가해보도록 한다. \n",
    "- login 등의 세션이 필요한 게시판도 있을 수 있다. \n",
    "- 아직 잘 모르지만 js형태로 가져오거나 이전 글이 업데이트 시 새 글로 등록되는 경우도 있을 수 있다. \n",
    "- 아직 글이 하나도 없는 경우. css selection을 할 수 없다. 채용공고가 있을 때 올라왔다가 마감되면 사라지는 경우나 게시글의 댓글 알림 같은 것은 처음에 댓글이 존재하지 않는다. \n",
    "\n",
    "### 참고:\n",
    "- https://facelessuser.github.io/soupsieve/"
   ]
  },
  {
   "cell_type": "markdown",
   "metadata": {},
   "source": [
    "## 1. KPMG (Chrome)\n",
    "site: https://career.kr.kpmg.com/\n",
    "\n",
    "- body > table > tbody > tr:nth-child(2) > td.ColumnText2\n",
    "- body > table > tbody > tr:nth-child(4) > td.ColumnText2\n",
    "- body > table > tbody > tr:nth-child(6) > td.ColumnText2\n",
    "    \n",
    "    \n",
    "#### Meanwhile on Firefox...\n",
    "\n",
    "- CSS selector: .Table > tbody:nth-child(1) > tr:nth-child(2) > td:nth-child(1)\n",
    "- CSS path: html body table.Table tbody tr td.ColumnText2"
   ]
  },
  {
   "cell_type": "code",
   "execution_count": 5,
   "metadata": {},
   "outputs": [],
   "source": [
    "site = 'https://career.kr.kpmg.com/'"
   ]
  },
  {
   "cell_type": "code",
   "execution_count": 10,
   "metadata": {},
   "outputs": [],
   "source": [
    "selector = ['body > table > tbody > tr:nth-child(2) > td.ColumnText2', 'body > table > tbody > tr:nth-child(4) > td.ColumnText2', 'body > table > tbody > tr:nth-child(6) > td.ColumnText2']"
   ]
  },
  {
   "cell_type": "code",
   "execution_count": 6,
   "metadata": {},
   "outputs": [],
   "source": [
    "def error_checker(url):\n",
    "    try:\n",
    "        urlopen(url)\n",
    "    except HTTPError as e:\n",
    "        print(\"The server returned an HTTP error, \", e)\n",
    "    except URLError as e:\n",
    "        print(\"The server could not be found! \", e)\n",
    "    else:\n",
    "        print(\"SUCCESS\")"
   ]
  },
  {
   "cell_type": "code",
   "execution_count": null,
   "metadata": {},
   "outputs": [],
   "source": [
    "def parse_selector(selector):\n",
    "    "
   ]
  },
  {
   "cell_type": "code",
   "execution_count": null,
   "metadata": {},
   "outputs": [],
   "source": [
    "def test_selector(url, )"
   ]
  },
  {
   "cell_type": "markdown",
   "metadata": {},
   "source": [
    "<h1 style='color:red'># TODO</h1>\n",
    "\n",
    "- Pattern인식 전 먼저 request보내고 element 를 가져와 이게 맞는지 확인하는 작업. \n",
    "- 중간에 fail 시 fail 했다고 알려줘야. \n",
    "- site structure이 바뀌면 언제든지 바뀔 수 있다고 알려주기. \n",
    "- regex로 알림 설정할 수 있게 하기. \n",
    "- dynamically change pattern 하기. 이전에 가져왔던 예시 selector을 통해 패턴을 알아냈으면 계속 예시 selector의 글이 잘 연결되나 확인하고, 만약 뭔가 site structure이 바뀌어서 더 이상 크롤링이 안되면 역으로 가지고 있던 title text 등을 통해 역으로 css를 가져오기. 꼭 처음 입력받은 예시 selector을 쓸 필요 없이 마지막으로 사용자가 괜찮다고 학인해 준 text를 이용하면 계속 새 글이 리젠되더라도 괜찮다. "
   ]
  },
  {
   "cell_type": "code",
   "execution_count": 24,
   "metadata": {},
   "outputs": [
    {
     "data": {
      "text/plain": [
       "[<a class=\"nclicks(rig.secteco)\" href=\"https://news.naver.com/main/read.nhn?mode=LSD&amp;mid=shm&amp;sid1=100&amp;oid=022&amp;aid=0003401013\" title='대통령 아들 문준용 \"하태경, 권력을 악용해 짜깁기 문서로 누명을 씌워…심각한 악행\"'>대통령 아들 문준용 \"하태경, 권력을 악용해 짜깁기 문서로 누명을 씌워…심각한 악행\"</a>]"
      ]
     },
     "execution_count": 24,
     "metadata": {},
     "output_type": "execute_result"
    }
   ],
   "source": [
    "html = urlopen('https://news.naver.com/main/read.nhn?mode=LSD&mid=shm&sid1=100&oid=032&aid=0002965362')\n",
    "html_bs = bs(html, 'html.parser')\n",
    "html_bs.body.select('#right_dailyList > div > ul:nth-child(1) > li:nth-child(3) > a')"
   ]
  },
  {
   "cell_type": "code",
   "execution_count": null,
   "metadata": {},
   "outputs": [],
   "source": []
  }
 ],
 "metadata": {
  "kernelspec": {
   "display_name": "Python 3",
   "language": "python",
   "name": "python3"
  },
  "language_info": {
   "codemirror_mode": {
    "name": "ipython",
    "version": 3
   },
   "file_extension": ".py",
   "mimetype": "text/x-python",
   "name": "python",
   "nbconvert_exporter": "python",
   "pygments_lexer": "ipython3",
   "version": "3.7.5"
  }
 },
 "nbformat": 4,
 "nbformat_minor": 4
}
