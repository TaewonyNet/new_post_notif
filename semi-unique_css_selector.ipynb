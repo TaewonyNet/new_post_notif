{
 "cells": [
  {
   "cell_type": "code",
   "execution_count": 25,
   "metadata": {},
   "outputs": [],
   "source": [
    "from urllib.request import urlopen\n",
    "from bs4 import BeautifulSoup \n",
    "\n",
    "html = urlopen(\"https://www.google.com\")\n",
    "html_bs = BeautifulSoup(html, 'html.parser')"
   ]
  },
  {
   "cell_type": "code",
   "execution_count": 26,
   "metadata": {},
   "outputs": [
    {
     "data": {
      "text/plain": [
       "bs4.element.NavigableString"
      ]
     },
     "execution_count": 26,
     "metadata": {},
     "output_type": "execute_result"
    }
   ],
   "source": [
    "gmail = html_bs.find_all(text='Gmail')[0]\n",
    "type(gmail)"
   ]
  },
  {
   "cell_type": "code",
   "execution_count": 27,
   "metadata": {},
   "outputs": [
    {
     "name": "stdout",
     "output_type": "stream",
     "text": [
      "a {'class': ['gb1'], 'href': 'https://mail.google.com/mail/?tab=wm'}\n",
      "nobr {}\n",
      "div {'id': 'gbar'}\n",
      "div {'id': 'mngb'}\n",
      "body {'bgcolor': '#fff'}\n",
      "html {'itemscope': '', 'itemtype': 'http://schema.org/WebPage', 'lang': 'ko'}\n",
      "[document] {}\n"
     ]
    }
   ],
   "source": [
    "for parent in gmail.parents:\n",
    "    print(parent.name, parent.attrs)"
   ]
  },
  {
   "cell_type": "code",
   "execution_count": 28,
   "metadata": {},
   "outputs": [
    {
     "data": {
      "text/plain": [
       "True"
      ]
     },
     "execution_count": 28,
     "metadata": {},
     "output_type": "execute_result"
    }
   ],
   "source": [
    "'id' in gmail.parent.parent.parent.attrs.keys()"
   ]
  },
  {
   "cell_type": "code",
   "execution_count": 29,
   "metadata": {},
   "outputs": [],
   "source": [
    "def get_id_class_selector(element):\n",
    "    if 'id' in element.attrs.keys():\n",
    "        return element.name + '#' + element.attrs['id']\n",
    "    elif 'class' in element.attrs.keys():\n",
    "        return element.name + '.' + element.attrs['class'][0]\n",
    "    else:\n",
    "        return element.name"
   ]
  },
  {
   "cell_type": "code",
   "execution_count": 33,
   "metadata": {},
   "outputs": [
    {
     "data": {
      "text/plain": [
       "['[document]', 'html', 'body', 'div', 'div', 'nobr', 'a']"
      ]
     },
     "execution_count": 33,
     "metadata": {},
     "output_type": "execute_result"
    }
   ],
   "source": [
    "ancestor_path = []\n",
    "\n",
    "for parent in gmail.parents:\n",
    "    ancestor_path.append(parent)\n",
    "\n",
    "ancestor_path = ancestor_path[::-1]\n",
    "    \n",
    "[(lambda x: x.name)(x) for x in ancestor_path]\n",
    "\n"
   ]
  },
  {
   "cell_type": "code",
   "execution_count": 34,
   "metadata": {},
   "outputs": [
    {
     "data": {
      "text/plain": [
       "['div#gbar', 'nobr', 'a.gb1']"
      ]
     },
     "execution_count": 34,
     "metadata": {},
     "output_type": "execute_result"
    }
   ],
   "source": [
    "css_selector_path = list(map(get_id_class_selector, ancestor_path[4:]))\n",
    "css_selector_path"
   ]
  },
  {
   "cell_type": "code",
   "execution_count": null,
   "metadata": {},
   "outputs": [],
   "source": []
  }
 ],
 "metadata": {
  "kernelspec": {
   "display_name": "Python 3",
   "language": "python",
   "name": "python3"
  },
  "language_info": {
   "codemirror_mode": {
    "name": "ipython",
    "version": 3
   },
   "file_extension": ".py",
   "mimetype": "text/x-python",
   "name": "python",
   "nbconvert_exporter": "python",
   "pygments_lexer": "ipython3",
   "version": "3.7.5"
  }
 },
 "nbformat": 4,
 "nbformat_minor": 4
}
