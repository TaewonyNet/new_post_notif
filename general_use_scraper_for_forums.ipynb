{
 "cells": [
  {
   "cell_type": "markdown",
   "metadata": {},
   "source": [
    "# General-use Scraper for forums \n",
    "# 게시판용 범용 스크레이퍼\n",
    "\n",
    "\n",
    "## 개요\n",
    "\n",
    "게시판 페이지의 구조와 타깃 element에 대한 사전 정보 없이 게시글을 쉽게 scraping하기 위해 만들어졌다. \n",
    "\n",
    "다만 이 scraper의 초점은 해당 게시판의 과거 게시글까지 모두 저장하는 것이 아니다. 오직 첫 페이지에 올라오는 최근 게시물을 확인하는 기능을 가지고 있다.  \n",
    "\n",
    "이는 본 scrpaer가 최종적으로 게시판에 새 글이 올라오면 알림을 주는 서비스를 구현하는데 쓰이기 때문이다. \n",
    "\n",
    "## 알고리즘\n",
    "\n",
    "이 scraper는 일반적인 scraping 방식인 특정 사이트에서 특정 정보의 css selector를 입력받아 정보를 얻어오는 방법을 쓰지 않는다. 거꾸로, 사용자가 지정하는 키워드(자연어)를 입력받아 이 키워드가 들어간 element(=게시글)를 찾고, 이 게시글을 토대로 다른 게시글의 css selector을 역산해 데이터를 긁어온다. \n",
    "\n",
    "이 때, 사용자가 지정하는 키워드는 사용자가 크롤링하려는 게시판의 게시글 제목에 포함되는 단어어야 한다. 가령 사용자가 취업을 위해 다수의 채용 사이트에서 채용 공고를 모으려 한다고 하자. 대부분의 채용 공고는 게시글 제목에 '~ 채용', '~ 모집', '~ 인턴', 등의 키워드를 포함하고 있을 것이므로 해당 단어들을 키워드로 선택한다. \n",
    "\n",
    "본 scraper는 이 키워드들과 크롤링을 하려는 게시판들의 첫 페이지 url을 입력받는다. 그리고 각 게시판에서 키워드가 들어간 element가 있는지 찾는다. 그리고 그 element로부터 parent node를 계속 조사하여 또 다른 키워드가 들어간 element와의 common ancestor를 찾는다. 이를 통해 게시판 페이지의 구조를 사전에 몰라도 역산을 통해 게시글들의 css selector path를 알아낼 수 있다. \n",
    "\n",
    "본 scraper는 이와 같은 알고리즘을 쓰기 때문에 다음의 경우 주의해야 한다. \n",
    "- 입력한 키워드가 일반적이지 않아 타깃 게시판 첫 페이지에 키워드가 쓰이지 않는 경우\n",
    "- 입력한 키워드가 게시글 뿐만 아닌 사이트 내 다른 요소에도 들어가 있을 수 있는 경우. (가령 VR게시판에서 VR이라는 키워드로 게시글을 찾으려 할 경우, 게시글이 아닌 메뉴 등에도 키워드가 포함되기에 제대로 작동하지 않을 수 있다.)\n",
    "- 입력한 키워드가 단일 게시글 element에서 두 번 이상 나타날 수 있는 경우. (이 경우 게시글 단위의 common ancestor를 제대로 찾아낼 수 없다.)\n",
    "- 입력한 키워드가 들어있는 게시글이 2개 미만일 경우. \n",
    "\n",
    "## 기대되는 효과\n",
    "\n",
    "- 범용적인 크롤링이 가능하기 때문에 여러 사이트로 scale하기에 용이하다. 즉, 각 사이트별로 크롤링을 할 필요가 없다. \n",
    "- 크롤링을 잘 모르는 사람도 간단한 인터페이스만 갖추면 쉽게 사용 가능하다. "
   ]
  },
  {
   "cell_type": "code",
   "execution_count": 44,
   "metadata": {},
   "outputs": [],
   "source": [
    "# -*- coding: utf-8 -*-\n",
    "\n",
    "from urllib.request import urlopen\n",
    "from urllib.error import HTTPError\n",
    "from urllib.error import URLError\n",
    "\n",
    "import bs4\n",
    "from bs4 import BeautifulSoup as bs\n",
    "\n",
    "from selenium import webdriver\n",
    "from selenium.webdriver.support.ui import WebDriverWait\n",
    "from selenium.webdriver.support import expected_conditions as EC\n",
    "from selenium.webdriver.common.by import By\n",
    "from selenium.common.exceptions import TimeoutException\n",
    "\n",
    "import difflib\n",
    "from pprint import pprint\n",
    "import re\n",
    "# import copy"
   ]
  },
  {
   "cell_type": "markdown",
   "metadata": {},
   "source": [
    "### 타깃 사이트를 지정한다. 각 게시판의 첫 페이지 url을 넣는다. "
   ]
  },
  {
   "cell_type": "code",
   "execution_count": 45,
   "metadata": {},
   "outputs": [],
   "source": [
    "target_sites = [\n",
    "    'https://career.kr.kpmg.com/', # 삼정 KPMG\n",
    "    'https://www2.kiwoom.com/kwa/html/ir/kr/recruit/recruit_info.html', # 키움증권\n",
    "    'https://kakaopay.recruiter.co.kr/app/jobnotice/list', # 카카오페이 - Chrome dev tool 막아놓음. \n",
    "    'https://kakaobank.recruiter.co.kr/app/jobnotice/list', # 카카오뱅크 - Chrome dev tool 막아놓음. \n",
    "    'http://www.truefriend.com/main/company/recruit/Recruit.jsp', # 한국투자증권\n",
    "    'https://fcbfi.org/find-jobs/', # FCBFI 금융학회 금융권 취업 게시판\n",
    "    'https://www.kofia.or.kr/brd/m_96/list.do', # 금투협 채용안내\n",
    "]"
   ]
  },
  {
   "cell_type": "markdown",
   "metadata": {},
   "source": [
    "### 모든 사이트 게시판 첫 페이지에서 2번 이상 언급되는 키워드를 넣는다. "
   ]
  },
  {
   "cell_type": "code",
   "execution_count": 46,
   "metadata": {},
   "outputs": [
    {
     "data": {
      "text/plain": [
       "re.compile(r'채용|모집|영입|담당|인턴|신입|경력', re.UNICODE)"
      ]
     },
     "execution_count": 46,
     "metadata": {},
     "output_type": "execute_result"
    }
   ],
   "source": [
    "keywords = [\n",
    "    '채용',\n",
    "    '모집',\n",
    "    '영입',\n",
    "    '담당',\n",
    "    \n",
    "    '인턴',\n",
    "    '신입',\n",
    "    '경력',\n",
    "]\n",
    "\n",
    "keywords_re = r\"|\".join(keywords)\n",
    "regex = re.compile(keywords_re)\n",
    "\n",
    "regex"
   ]
  },
  {
   "cell_type": "code",
   "execution_count": 63,
   "metadata": {},
   "outputs": [
    {
     "data": {
      "text/plain": [
       "re.compile(r'2019년 하반기 키움증권 각 부문 신입사원 수시채용|2019년 하반기 키움금융센터 정규직 신입/경력사원|대출사업실 사업 기획 담당자 영입|비즈니스 플랫폼 프로덕트 매니저 영입|대출상담 및 심사 담당자|인재영입 담당자|해외투자영업부 경력직 채용 안내|2019 하반기 신입사원 공개채용 최종 면접 합격자 발표|운용지원팀 채용|리스크관리팀 채용',\n",
       "re.UNICODE)"
      ]
     },
     "execution_count": 63,
     "metadata": {},
     "output_type": "execute_result"
    }
   ],
   "source": [
    "keywords = [\n",
    "    '2019년 하반기 키움증권 각 부문 신입사원 수시채용', # 키움증권\n",
    "    '2019년 하반기 키움금융센터 정규직 신입/경력사원',\n",
    "    \n",
    "    '대출사업실 사업 기획 담당자 영입', # 카카오페이\n",
    "    '비즈니스 플랫폼 프로덕트 매니저 영입',\n",
    "    \n",
    "    '대출상담 및 심사 담당자', # 카카오뱅크 # 앞에 [고객서비스], [인사/경영지원] 뺌. Regex 잘 되라고. \n",
    "    '인재영입 담당자',\n",
    "    \n",
    "    '해외투자영업부 경력직 채용 안내', # 한국투자증권\n",
    "    '2019 하반기 신입사원 공개채용 최종 면접 합격자 발표',\n",
    "    \n",
    "    '운용지원팀 채용', # 금융투자협회 # 뒤에 (~2/21), (~2/21) 뺌. Regex 잘 되라고.\n",
    "    '리스크관리팀 채용',\n",
    "]\n",
    "\n",
    "keywords_re = r\"|\".join(keywords)\n",
    "regex = re.compile(keywords_re)\n",
    "\n",
    "regex"
   ]
  },
  {
   "cell_type": "markdown",
   "metadata": {},
   "source": [
    "### 혹 게시판에 http 에러 등이 발생해 접근할 수 없는 것은 아닌지 사전 체크한다. "
   ]
  },
  {
   "cell_type": "code",
   "execution_count": 64,
   "metadata": {},
   "outputs": [],
   "source": [
    "def error_checker(site):\n",
    "    try:\n",
    "        html = urlopen(site)\n",
    "    except HTTPError as e:\n",
    "        print(site, \"The server returned an HTTP error, \", e)\n",
    "        return 1\n",
    "    except URLError as e:\n",
    "        print(site, \"The server could not be found. \", e)\n",
    "        return 1\n",
    "    else: # Success\n",
    "        return 0"
   ]
  },
  {
   "cell_type": "code",
   "execution_count": 65,
   "metadata": {},
   "outputs": [
    {
     "name": "stdout",
     "output_type": "stream",
     "text": [
      "['https://career.kr.kpmg.com/',\n",
      " 'https://www2.kiwoom.com/kwa/html/ir/kr/recruit/recruit_info.html',\n",
      " 'https://kakaopay.recruiter.co.kr/app/jobnotice/list',\n",
      " 'https://kakaobank.recruiter.co.kr/app/jobnotice/list',\n",
      " 'http://www.truefriend.com/main/company/recruit/Recruit.jsp',\n",
      " 'https://www.kofia.or.kr/brd/m_96/list.do']\n"
     ]
    }
   ],
   "source": [
    "filtered_target_sites = list(map(lambda x: x if error_checker(x)==0 else None, target_sites))\n",
    "filtered_target_sites = list(filter(None, filtered_target_sites))\n",
    "target_sites = filtered_target_sites\n",
    "\n",
    "pprint(target_sites)"
   ]
  },
  {
   "cell_type": "markdown",
   "metadata": {},
   "source": [
    "### urllib 대신 selenium으로 request를 가져온다. "
   ]
  },
  {
   "cell_type": "code",
   "execution_count": 66,
   "metadata": {},
   "outputs": [],
   "source": [
    "driver = webdriver.Chrome()"
   ]
  },
  {
   "cell_type": "code",
   "execution_count": 67,
   "metadata": {},
   "outputs": [],
   "source": [
    "def delayed_selenium_request(site):\n",
    "    driver.get(site)\n",
    "    delay = 3\n",
    "    site_body = WebDriverWait(driver, timeout=delay).until(EC.visibility_of_all_elements_located((By.TAG_NAME, 'body')))\n",
    "    req = site_body[0].parent.page_source # .parent returns a Driver object. \n",
    "    return req"
   ]
  },
  {
   "cell_type": "code",
   "execution_count": 68,
   "metadata": {},
   "outputs": [],
   "source": [
    "html_list = []\n",
    "\n",
    "for i in target_sites:\n",
    "    html_list.append(delayed_selenium_request(i))"
   ]
  },
  {
   "cell_type": "code",
   "execution_count": 69,
   "metadata": {},
   "outputs": [
    {
     "data": {
      "text/plain": [
       "6"
      ]
     },
     "execution_count": 69,
     "metadata": {},
     "output_type": "execute_result"
    }
   ],
   "source": [
    "html_list_bs = [bs(x, 'html.parser') for x in html_list]\n",
    "\n",
    "html2site = {}\n",
    "for i in range(0, len(html_list_bs)):\n",
    "    html2site[html_list_bs[i]] = target_sites[i]\n",
    "\n",
    "len(html_list_bs)"
   ]
  },
  {
   "cell_type": "markdown",
   "metadata": {},
   "source": [
    "아래 deepcopy method로 html_list_bs를 처리하려고 했는데 예상치 못하게 아예 커널을 종료시켜 버린다. 왜일까? "
   ]
  },
  {
   "cell_type": "code",
   "execution_count": 70,
   "metadata": {},
   "outputs": [],
   "source": [
    "# html_list_bs_temp = copy.deepcopy(html_list_bs) # Kernel을 아예 종료시켜버린다. 대체 왜? "
   ]
  },
  {
   "cell_type": "markdown",
   "metadata": {},
   "source": [
    "### 키워드가 들어간 게시글들을 찾는다. 이 게시물들이 (정확히는 0번째 게시물이) 같은 계층의 다른 게시물들의 css selector path를 추정하는데 쓰인다."
   ]
  },
  {
   "cell_type": "code",
   "execution_count": 83,
   "metadata": {},
   "outputs": [
    {
     "name": "stdout",
     "output_type": "stream",
     "text": [
      "Warning: site[https://career.kr.kpmg.com/] has less than 2 elements matching the given keywords\n",
      "target posts: []\n"
     ]
    }
   ],
   "source": [
    "html2target_post = {}\n",
    "temp = []\n",
    "for html_bs in html_list_bs:\n",
    "    target_posts = html_bs.find_all(text=regex)\n",
    "    \n",
    "    if len(target_posts) < 2:\n",
    "        print('Warning: site[{site}] has less than 2 elements matching the given keywords'.format(site=html2site[html_bs]))\n",
    "        print(\"target posts: \", end='')\n",
    "        print(target_posts) \n",
    "        \n",
    "        temp.append(html_bs)\n",
    "        continue # Exclude the site that has less than two target posts. \n",
    "    \n",
    "    html2target_post[html_bs] = target_posts\n",
    "\n",
    "html_list_bs = [i for i in html_list_bs if i not in temp]"
   ]
  },
  {
   "cell_type": "code",
   "execution_count": 84,
   "metadata": {},
   "outputs": [
    {
     "name": "stdout",
     "output_type": "stream",
     "text": [
      "['대출사업실 사업 기획 담당자 영입', '비즈니스 플랫폼 프로덕트 매니저 영입']\n",
      "['[고객서비스] 대출상담 및 심사 담당자', '[인사/경영지원] 인재영입 담당자']\n",
      "['해외투자영업부 경력직 채용 안내', '2019 하반기 신입사원 공개채용 최종 면접 합격자 발표']\n",
      "['운용지원팀 채용 (~2/21)', '리스크관리팀 채용 (~2/21)']\n"
     ]
    }
   ],
   "source": [
    "for k, v in html2target_post.items():\n",
    "    pprint(v)"
   ]
  },
  {
   "cell_type": "markdown",
   "metadata": {},
   "source": [
    "### 0 번째 게시물을 토대로 키워드가 등장하는 다른 element와의 공통 조상을 찾는다. "
   ]
  },
  {
   "cell_type": "code",
   "execution_count": 85,
   "metadata": {},
   "outputs": [],
   "source": [
    "def get_id_class_selector(element):\n",
    "#     print(\"Let's check element's attrs\", element.attrs)\n",
    "    if 'id' in element.attrs.keys():\n",
    "        return element.name + '#' + element.attrs['id']\n",
    "    elif 'class' in element.attrs.keys() and element.attrs['class'] != []:\n",
    "        return element.name + '.' + element.attrs['class'][0]\n",
    "    else:\n",
    "        return element.name"
   ]
  },
  {
   "cell_type": "code",
   "execution_count": 86,
   "metadata": {},
   "outputs": [],
   "source": [
    "def find_common_ancestor(child):\n",
    "    ancestor_path = []\n",
    "    for parent in child.parents:\n",
    "        if len(parent.find_all(text=regex)) == 1:\n",
    "            ancestor_path.append(parent)\n",
    "            continue\n",
    "        if len(parent.find_all(text=regex)) > 1:\n",
    "            return parent, ancestor_path\n",
    "        else:\n",
    "            print('Error in find_common_ancestor(): No matching elements to keywords')\n",
    "            return"
   ]
  },
  {
   "cell_type": "code",
   "execution_count": 87,
   "metadata": {},
   "outputs": [],
   "source": [
    "html2all_posts = {}\n",
    "html2css_selector_path = {}\n",
    "\n",
    "for html_bs in html_list_bs:\n",
    "    common_ancestor = find_common_ancestor(html2target_post[html_bs][0])\n",
    "    \n",
    "    css_selector_path = list(map(get_id_class_selector, common_ancestor[1][::-1]))\n",
    "    css_selector_path = \">\".join(css_selector_path)\n",
    "    \n",
    "    all_posts = common_ancestor[0].select(css_selector_path)\n",
    "    css_selector_path = common_ancestor[0].name + \">\" + css_selector_path\n",
    "    \n",
    "    html2all_posts[html_bs] = all_posts\n",
    "    html2css_selector_path[html_bs] = css_selector_path"
   ]
  },
  {
   "cell_type": "markdown",
   "metadata": {},
   "source": [
    "### 각 게시판에서 게시글의 css selector가 잘 나오는 것을 볼 수 있다. "
   ]
  },
  {
   "cell_type": "code",
   "execution_count": 88,
   "metadata": {},
   "outputs": [
    {
     "name": "stdout",
     "output_type": "stream",
     "text": [
      "ul>li>div>h2.list-bbs-title>a\n",
      "ul>li>div>h2.list-bbs-title>a\n",
      "tbody>tr>td.t_left>a\n",
      "tbody>tr>td.left>span>a\n"
     ]
    }
   ],
   "source": [
    "for k, v in html2css_selector_path.items():\n",
    "    print(v)"
   ]
  },
  {
   "cell_type": "code",
   "execution_count": 89,
   "metadata": {},
   "outputs": [
    {
     "name": "stdout",
     "output_type": "stream",
     "text": [
      "[<a data-btn-type=\"move-step\" data-jobnoticesn=\"3132\" data-systemkindcode=\"MRS2\" href=\"./view\">인재 Pool 등록</a>,\n",
      " <a data-btn-type=\"move-step\" data-jobnoticesn=\"21780\" data-systemkindcode=\"MRS2\" href=\"./view\">대출사업실 사업 기획 담당자 영입</a>,\n",
      " <a data-btn-type=\"move-step\" data-jobnoticesn=\"21723\" data-systemkindcode=\"MRS2\" href=\"./view\">비즈니스 플랫폼 프로덕트 매니저 영입</a>,\n",
      " <a data-btn-type=\"move-step\" data-jobnoticesn=\"21670\" data-systemkindcode=\"MRS2\" href=\"./view\">오프라인 결제 영업 담당자 영입</a>,\n",
      " <a data-btn-type=\"move-step\" data-jobnoticesn=\"21635\" data-systemkindcode=\"MRS2\" href=\"./view\">플랫폼 설계 프로덕트 매니저 영입</a>,\n",
      " <a data-btn-type=\"move-step\" data-jobnoticesn=\"21560\" data-systemkindcode=\"MRS2\" href=\"./view\">법무 행정 업무 지원 어시스턴트 영입</a>,\n",
      " <a data-btn-type=\"move-step\" data-jobnoticesn=\"21514\" data-systemkindcode=\"MRS2\" href=\"./view\">금융 서비스 마케팅 담당자 영입</a>,\n",
      " <a data-btn-type=\"move-step\" data-jobnoticesn=\"21512\" data-systemkindcode=\"MRS2\" href=\"./view\">가맹점 업무지원 담당자 영입</a>,\n",
      " <a data-btn-type=\"move-step\" data-jobnoticesn=\"21335\" data-systemkindcode=\"MRS2\" href=\"./view\">브랜드채널 관리 업무 지원 어시스턴트 영입</a>,\n",
      " <a data-btn-type=\"move-step\" data-jobnoticesn=\"21312\" data-systemkindcode=\"MRS2\" href=\"./view\">카카오페이머니 iOS 개발자 영입</a>]\n",
      "[<a data-btn-type=\"move-step\" data-jobnoticesn=\"21478\" data-systemkindcode=\"MRS2\" href=\"./view\">[고객서비스] 대출상담 및 심사 담당자</a>,\n",
      " <a data-btn-type=\"move-step\" data-jobnoticesn=\"21477\" data-systemkindcode=\"MRS2\" href=\"./view\">[인사/경영지원] 인재영입 담당자</a>,\n",
      " <a data-btn-type=\"move-step\" data-jobnoticesn=\"21476\" data-systemkindcode=\"MRS2\" href=\"./view\">[감사] 감사 업무 담당자</a>,\n",
      " <a data-btn-type=\"move-step\" data-jobnoticesn=\"21475\" data-systemkindcode=\"MRS2\" href=\"./view\">[감사] IT감사 업무 담당자</a>,\n",
      " <a data-btn-type=\"move-step\" data-jobnoticesn=\"21474\" data-systemkindcode=\"MRS2\" href=\"./view\">[상품] 카드 회원제도 및 회원 프로세스 기획 담당자</a>,\n",
      " <a data-btn-type=\"move-step\" data-jobnoticesn=\"21473\" data-systemkindcode=\"MRS2\" href=\"./view\">[상품] 전월세대출 상품 기획 및 운영 담당자</a>,\n",
      " <a data-btn-type=\"move-step\" data-jobnoticesn=\"21472\" data-systemkindcode=\"MRS2\" href=\"./view\">[상품] 신용대출 기획 및 운영 담당자</a>,\n",
      " <a data-btn-type=\"move-step\" data-jobnoticesn=\"21471\" data-systemkindcode=\"MRS2\" href=\"./view\">[상품] 전자금융(기업) 기획 담당자</a>,\n",
      " <a data-btn-type=\"move-step\" data-jobnoticesn=\"21467\" data-systemkindcode=\"MRS2\" href=\"./view\">[채널] 브랜드/마케팅 디자이너</a>,\n",
      " <a data-btn-type=\"move-step\" data-jobnoticesn=\"21466\" data-systemkindcode=\"MRS2\" href=\"./view\">[코어뱅킹] 고객센터 IT 담당자</a>]\n",
      "[<a href=\"javascript:doView('6546');\">한국투자증권 실무연계 수시인턴 전형</a>,\n",
      " <a href=\"javascript:doView('8286');\">해외투자영업부 경력직 채용 안내</a>,\n",
      " <a href=\"javascript:doView('8166');\">2019 하반기 신입사원 공개채용 최종 면접 합격자 발표</a>,\n",
      " <a href=\"javascript:doView('8126');\">2019 하반기 신입사원 공개채용 1차 면접 합격자 발표</a>,\n",
      " <a href=\"javascript:doView('8086');\">2019 하반기 신입사원 공개채용 직무적합성검사 합격자 발표</a>,\n",
      " <a href=\"javascript:doView('8046');\">2019 하반기 신입사원 공개채용 서류전형 합격자 발표</a>,\n",
      " <a href=\"javascript:doView('7746');\">2019 채용연계형 인턴 1차면접(직무적합성검사) 합격자 발표</a>,\n",
      " <a href=\"javascript:doView('7726');\">2019 전역장교 신입사원 공개채용 최종면접 합격자 발표</a>,\n",
      " <a href=\"javascript:doView('7687');\">2019 해외대 신입사원 공개채용 서류전형 합격자 발표</a>,\n",
      " <a href=\"javascript:doView('7626');\">2019 전역장교 신입사원 공개채용 1차면접 합격자 발표</a>,\n",
      " <a href=\"javascript:doView('7606');\">2019 채용연계형 인턴 서류전형 합격자 발표</a>,\n",
      " <a href=\"javascript:doView('8006');\">2019 채용형인턴 전형 최종합격자 발표</a>,\n",
      " <a href=\"javascript:doView('7966');\">2019 하반기 신입사원(5급) 공개채용</a>,\n",
      " <a href=\"javascript:doView('7946');\">해외투자 상담전문인력 채용안내</a>,\n",
      " <a href=\"javascript:doView('7826');\">2019 해외대 신입사원 공개채용 최종면접 합격자 발표</a>]\n",
      "[<a href=\"./view.do?seq=11608&amp;srchFr=&amp;srchTo=&amp;srchWord=&amp;srchTp=&amp;multi_itm_seq=0&amp;itm_seq_1=0&amp;itm_seq_2=0&amp;company_cd=&amp;company_nm=&amp;page=1\">운용지원팀 채용 (~2/21)</a>,\n",
      " <a href=\"./view.do?seq=11607&amp;srchFr=&amp;srchTo=&amp;srchWord=&amp;srchTp=&amp;multi_itm_seq=0&amp;itm_seq_1=0&amp;itm_seq_2=0&amp;company_cd=&amp;company_nm=&amp;page=1\">리스크관리팀 채용 (~2/21)</a>,\n",
      " <a href=\"./view.do?seq=11606&amp;srchFr=&amp;srchTo=&amp;srchWord=&amp;srchTp=&amp;multi_itm_seq=0&amp;itm_seq_1=0&amp;itm_seq_2=0&amp;company_cd=&amp;company_nm=&amp;page=1\">[쿼터백자산운용] 운용본부 알고리즘파트 인턴 채용</a>,\n",
      " <a href=\"./view.do?seq=11605&amp;srchFr=&amp;srchTo=&amp;srchWord=&amp;srchTp=&amp;multi_itm_seq=0&amp;itm_seq_1=0&amp;itm_seq_2=0&amp;company_cd=&amp;company_nm=&amp;page=1\">[현대자산운용] 마케팅본부 마케팅팀 채용 공고</a>,\n",
      " <a href=\"./view.do?seq=11604&amp;srchFr=&amp;srchTo=&amp;srchWord=&amp;srchTp=&amp;multi_itm_seq=0&amp;itm_seq_1=0&amp;itm_seq_2=0&amp;company_cd=&amp;company_nm=&amp;page=1\">[신한금융투자]자금관리부 경력직 채용(회계사/세무사)</a>,\n",
      " <a href=\"./view.do?seq=11603&amp;srchFr=&amp;srchTo=&amp;srchWord=&amp;srchTp=&amp;multi_itm_seq=0&amp;itm_seq_1=0&amp;itm_seq_2=0&amp;company_cd=&amp;company_nm=&amp;page=1\">[신한금융투자]헤지펀드운용본부 경력직 채용(준법감시인)</a>,\n",
      " <a href=\"./view.do?seq=11602&amp;srchFr=&amp;srchTo=&amp;srchWord=&amp;srchTp=&amp;multi_itm_seq=0&amp;itm_seq_1=0&amp;itm_seq_2=0&amp;company_cd=&amp;company_nm=&amp;page=1\">[IBK투자증권]부동산금융1팀 경력직 채용공고</a>,\n",
      " <a href=\"./view.do?seq=11601&amp;srchFr=&amp;srchTo=&amp;srchWord=&amp;srchTp=&amp;multi_itm_seq=0&amp;itm_seq_1=0&amp;itm_seq_2=0&amp;company_cd=&amp;company_nm=&amp;page=1\">[HDC자산운용] 주식 트레이더 모집(사원급)</a>,\n",
      " <a href=\"./view.do?seq=11600&amp;srchFr=&amp;srchTo=&amp;srchWord=&amp;srchTp=&amp;multi_itm_seq=0&amp;itm_seq_1=0&amp;itm_seq_2=0&amp;company_cd=&amp;company_nm=&amp;page=1\">[DB자산운용] 퀀트운용본부 경력사원 채용 공고(수정)</a>,\n",
      " <a href=\"./view.do?seq=11599&amp;srchFr=&amp;srchTo=&amp;srchWord=&amp;srchTp=&amp;multi_itm_seq=0&amp;itm_seq_1=0&amp;itm_seq_2=0&amp;company_cd=&amp;company_nm=&amp;page=1\">[KB증권] IPS본부 대체상품솔루션부 경력직 채용 안내</a>]\n"
     ]
    }
   ],
   "source": [
    "for k, v in html2all_posts.items():\n",
    "    pprint(v)"
   ]
  },
  {
   "cell_type": "markdown",
   "metadata": {},
   "source": [
    "### css selector을 통해 각 게시판의 첫 게시물 크롤링하기\n",
    "\n",
    "id, class를 추가했으나, 공지사항과 같이 맨 위에 나타나는 놈을 처리하지 못했다. \n",
    "\n",
    "따라서 추후 새로운 글이 추가되었나 확인할 때, 기존 글 DB의 가장 위의 데이터와만 비교하면 안된다. 공지사항처럼 항상 위에 있는 데이터가 있기 때문에 최상단 n개를 긁어와서 기존 DB와 비교하며 뭐가 '새로 추가되었는지' 확인해야한다. "
   ]
  },
  {
   "cell_type": "code",
   "execution_count": 90,
   "metadata": {},
   "outputs": [
    {
     "name": "stdout",
     "output_type": "stream",
     "text": [
      "인재 Pool 등록  글 링크:  ./view\n",
      "대출사업실 사업 기획 담당자 영입  글 링크:  ./view\n",
      "비즈니스 플랫폼 프로덕트 매니저 영입  글 링크:  ./view\n",
      "오프라인 결제 영업 담당자 영입  글 링크:  ./view\n",
      "플랫폼 설계 프로덕트 매니저 영입  글 링크:  ./view\n",
      "법무 행정 업무 지원 어시스턴트 영입  글 링크:  ./view\n",
      "금융 서비스 마케팅 담당자 영입  글 링크:  ./view\n",
      "가맹점 업무지원 담당자 영입  글 링크:  ./view\n",
      "브랜드채널 관리 업무 지원 어시스턴트 영입  글 링크:  ./view\n",
      "카카오페이머니 iOS 개발자 영입  글 링크:  ./view\n",
      "------------------------------\n",
      "[고객서비스] 대출상담 및 심사 담당자  글 링크:  ./view\n",
      "[인사/경영지원] 인재영입 담당자  글 링크:  ./view\n",
      "[감사] 감사 업무 담당자  글 링크:  ./view\n",
      "[감사] IT감사 업무 담당자  글 링크:  ./view\n",
      "[상품] 카드 회원제도 및 회원 프로세스 기획 담당자  글 링크:  ./view\n",
      "[상품] 전월세대출 상품 기획 및 운영 담당자  글 링크:  ./view\n",
      "[상품] 신용대출 기획 및 운영 담당자  글 링크:  ./view\n",
      "[상품] 전자금융(기업) 기획 담당자  글 링크:  ./view\n",
      "[채널] 브랜드/마케팅 디자이너  글 링크:  ./view\n",
      "[코어뱅킹] 고객센터 IT 담당자  글 링크:  ./view\n",
      "------------------------------\n",
      "한국투자증권 실무연계 수시인턴 전형  글 링크:  javascript:doView('6546');\n",
      "해외투자영업부 경력직 채용 안내  글 링크:  javascript:doView('8286');\n",
      "2019 하반기 신입사원 공개채용 최종 면접 합격자 발표  글 링크:  javascript:doView('8166');\n",
      "2019 하반기 신입사원 공개채용 1차 면접 합격자 발표  글 링크:  javascript:doView('8126');\n",
      "2019 하반기 신입사원 공개채용 직무적합성검사 합격자 발표  글 링크:  javascript:doView('8086');\n",
      "2019 하반기 신입사원 공개채용 서류전형 합격자 발표  글 링크:  javascript:doView('8046');\n",
      "2019 채용연계형 인턴 1차면접(직무적합성검사) 합격자 발표  글 링크:  javascript:doView('7746');\n",
      "2019 전역장교 신입사원 공개채용 최종면접 합격자 발표  글 링크:  javascript:doView('7726');\n",
      "2019 해외대 신입사원 공개채용 서류전형 합격자 발표  글 링크:  javascript:doView('7687');\n",
      "2019 전역장교 신입사원 공개채용 1차면접 합격자 발표  글 링크:  javascript:doView('7626');\n",
      "------------------------------\n",
      "운용지원팀 채용 (~2/21)  글 링크:  ./view.do?seq=11608&srchFr=&srchTo=&srchWord=&srchTp=&multi_itm_seq=0&itm_seq_1=0&itm_seq_2=0&company_cd=&company_nm=&page=1\n",
      "리스크관리팀 채용 (~2/21)  글 링크:  ./view.do?seq=11607&srchFr=&srchTo=&srchWord=&srchTp=&multi_itm_seq=0&itm_seq_1=0&itm_seq_2=0&company_cd=&company_nm=&page=1\n",
      "[쿼터백자산운용] 운용본부 알고리즘파트 인턴 채용  글 링크:  ./view.do?seq=11606&srchFr=&srchTo=&srchWord=&srchTp=&multi_itm_seq=0&itm_seq_1=0&itm_seq_2=0&company_cd=&company_nm=&page=1\n",
      "[현대자산운용] 마케팅본부 마케팅팀 채용 공고  글 링크:  ./view.do?seq=11605&srchFr=&srchTo=&srchWord=&srchTp=&multi_itm_seq=0&itm_seq_1=0&itm_seq_2=0&company_cd=&company_nm=&page=1\n",
      "[신한금융투자]자금관리부 경력직 채용(회계사/세무사)  글 링크:  ./view.do?seq=11604&srchFr=&srchTo=&srchWord=&srchTp=&multi_itm_seq=0&itm_seq_1=0&itm_seq_2=0&company_cd=&company_nm=&page=1\n",
      "[신한금융투자]헤지펀드운용본부 경력직 채용(준법감시인)  글 링크:  ./view.do?seq=11603&srchFr=&srchTo=&srchWord=&srchTp=&multi_itm_seq=0&itm_seq_1=0&itm_seq_2=0&company_cd=&company_nm=&page=1\n",
      "[IBK투자증권]부동산금융1팀 경력직 채용공고  글 링크:  ./view.do?seq=11602&srchFr=&srchTo=&srchWord=&srchTp=&multi_itm_seq=0&itm_seq_1=0&itm_seq_2=0&company_cd=&company_nm=&page=1\n",
      "[HDC자산운용] 주식 트레이더 모집(사원급)  글 링크:  ./view.do?seq=11601&srchFr=&srchTo=&srchWord=&srchTp=&multi_itm_seq=0&itm_seq_1=0&itm_seq_2=0&company_cd=&company_nm=&page=1\n",
      "[DB자산운용] 퀀트운용본부 경력사원 채용 공고(수정)  글 링크:  ./view.do?seq=11600&srchFr=&srchTo=&srchWord=&srchTp=&multi_itm_seq=0&itm_seq_1=0&itm_seq_2=0&company_cd=&company_nm=&page=1\n",
      "[KB증권] IPS본부 대체상품솔루션부 경력직 채용 안내  글 링크:  ./view.do?seq=11599&srchFr=&srchTo=&srchWord=&srchTp=&multi_itm_seq=0&itm_seq_1=0&itm_seq_2=0&company_cd=&company_nm=&page=1\n",
      "------------------------------\n"
     ]
    }
   ],
   "source": [
    "for k, v in html2css_selector_path.items():\n",
    "    for i in k.select(v)[:10]:\n",
    "        a_href = '#'\n",
    "        if 'href' in i.attrs.keys():\n",
    "            a_href = i.attrs['href']\n",
    "        \n",
    "        print(i.text, \" 글 링크: \", a_href)\n",
    "    print(\"---\"*10)"
   ]
  },
  {
   "cell_type": "code",
   "execution_count": null,
   "metadata": {},
   "outputs": [],
   "source": []
  }
 ],
 "metadata": {
  "kernelspec": {
   "display_name": "Python 3",
   "language": "python",
   "name": "python3"
  },
  "language_info": {
   "codemirror_mode": {
    "name": "ipython",
    "version": 3
   },
   "file_extension": ".py",
   "mimetype": "text/x-python",
   "name": "python",
   "nbconvert_exporter": "python",
   "pygments_lexer": "ipython3",
   "version": "3.7.6"
  }
 },
 "nbformat": 4,
 "nbformat_minor": 4
}
