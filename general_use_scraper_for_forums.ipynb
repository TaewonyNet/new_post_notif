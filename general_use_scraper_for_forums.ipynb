{
 "cells": [
  {
   "cell_type": "markdown",
   "metadata": {},
   "source": [
    "# General-use Scraper for forums \n",
    "# 게시판용 범용 스크레이퍼\n",
    "\n",
    "\n",
    "## 개요\n",
    "\n",
    "게시판 페이지의 구조와 타깃 element에 대한 사전 정보 없이 게시글을 쉽게 scraping하기 위해 만들어졌다. \n",
    "\n",
    "다만 이 scraper의 초점은 해당 게시판의 과거 게시글까지 모두 저장하는 것이 아니다. 오직 첫 페이지에 올라오는 최근 게시물을 확인하는 기능을 가지고 있다.  \n",
    "\n",
    "이는 본 scrpaer가 최종적으로 게시판에 새 글이 올라오면 알림을 주는 서비스를 구현하는데 쓰이기 때문이다. \n",
    "\n",
    "## 알고리즘\n",
    "\n",
    "이 scraper는 일반적인 scraping 방식인 특정 사이트에서 특정 정보의 css selector를 입력받아 정보를 얻어오는 방법을 쓰지 않는다. 거꾸로, 사용자가 지정하는 키워드(자연어)를 입력받아 이 키워드가 들어간 element(=게시글)를 찾고, 이 게시글을 토대로 다른 게시글의 css selector을 역산해 데이터를 긁어온다. \n",
    "\n",
    "이 때, 사용자가 지정하는 키워드는 사용자가 크롤링하려는 게시판의 게시글 제목에 포함되는 단어어야 한다. 가령 사용자가 취업을 위해 다수의 채용 사이트에서 채용 공고를 모으려 한다고 하자. 대부분의 채용 공고는 게시글 제목에 '~ 채용', '~ 모집', '~ 인턴', 등의 키워드를 포함하고 있을 것이므로 해당 단어들을 키워드로 선택한다. \n",
    "\n",
    "본 scraper는 이 키워드들과 크롤링을 하려는 게시판들의 첫 페이지 url을 입력받는다. 그리고 각 게시판에서 키워드가 들어간 element가 있는지 찾는다. 그리고 그 element로부터 parent node를 계속 조사하여 또 다른 키워드가 들어간 element와의 common ancestor를 찾는다. 이를 통해 게시판 페이지의 구조를 사전에 몰라도 역산을 통해 게시글들의 css selector path를 알아낼 수 있다. \n",
    "\n",
    "본 scraper는 이와 같은 알고리즘을 쓰기 때문에 다음의 경우 주의해야 한다. \n",
    "- 입력한 키워드가 일반적이지 않아 타깃 게시판 첫 페이지에 키워드가 쓰이지 않는 경우\n",
    "- 입력한 키워드가 게시글 뿐만 아닌 사이트 내 다른 요소에도 들어가 있을 수 있는 경우. (가령 VR게시판에서 VR이라는 키워드로 게시글을 찾으려 할 경우, 게시글이 아닌 메뉴 등에도 키워드가 포함되기에 제대로 작동하지 않을 수 있다.)\n",
    "- 입력한 키워드가 단일 게시글 element에서 두 번 이상 나타날 수 있는 경우. (이 경우 게시글 단위의 common ancestor를 제대로 찾아낼 수 없다.)\n",
    "- 입력한 키워드가 들어있는 게시글이 2개 미만일 경우. \n",
    "\n",
    "## 기대되는 효과\n",
    "\n",
    "- 범용적인 크롤링이 가능하기 때문에 여러 사이트로 scale하기에 용이하다. 즉, 각 사이트별로 크롤링을 할 필요가 없다. \n",
    "- 크롤링을 잘 모르는 사람도 간단한 인터페이스만 갖추면 쉽게 사용 가능하다. "
   ]
  },
  {
   "cell_type": "code",
   "execution_count": 209,
   "metadata": {},
   "outputs": [],
   "source": [
    "# -*- coding: utf-8 -*-\n",
    "\n",
    "from urllib.request import urlopen\n",
    "from urllib.error import HTTPError\n",
    "from urllib.error import URLError\n",
    "\n",
    "import bs4\n",
    "from bs4 import BeautifulSoup as bs\n",
    "\n",
    "import difflib\n",
    "from pprint import pprint\n",
    "import re"
   ]
  },
  {
   "cell_type": "markdown",
   "metadata": {},
   "source": [
    "### 타깃 사이트를 지정한다. 각 게시판의 첫 페이지 url을 넣는다. "
   ]
  },
  {
   "cell_type": "code",
   "execution_count": 210,
   "metadata": {},
   "outputs": [],
   "source": [
    "target_sites = [\n",
    "    'http://www.coolenjoy.net/bbs/40',\n",
    "    'http://coolenjoy.net/bbs/hardcore_cooling',\n",
    "    'https://quasarzone.co.kr/bbs/board.php?bo_table=qf_vga'\n",
    "]"
   ]
  },
  {
   "cell_type": "markdown",
   "metadata": {},
   "source": [
    "### 모든 사이트 게시판 첫 페이지에서 2번 이상 언급되는 키워드를 넣는다. "
   ]
  },
  {
   "cell_type": "code",
   "execution_count": 211,
   "metadata": {},
   "outputs": [
    {
     "data": {
      "text/plain": [
       "'까요'"
      ]
     },
     "execution_count": 211,
     "metadata": {},
     "output_type": "execute_result"
    }
   ],
   "source": [
    "keywords = [\n",
    "    '까요',\n",
    "]\n",
    "\n",
    "keywords_re = r\"|\".join(keywords)\n",
    "regex = re.compile(keywords_re)\n",
    "\n",
    "keywords_re"
   ]
  },
  {
   "cell_type": "markdown",
   "metadata": {},
   "source": [
    "### 혹 게시판에 http 에러 등이 발생해 접근할 수 없는 것은 아닌지 사전 체크한다. "
   ]
  },
  {
   "cell_type": "code",
   "execution_count": 212,
   "metadata": {},
   "outputs": [],
   "source": [
    "def error_checker(site):\n",
    "    try:\n",
    "        html = urlopen(site)\n",
    "    except HTTPError as e:\n",
    "        print(site, \"The server returned an HTTP error, \", e)\n",
    "        return 1\n",
    "    except URLError as e:\n",
    "        print(site, \"The server could not be found. \", e)\n",
    "        return 1\n",
    "    else: # Success\n",
    "        return 0"
   ]
  },
  {
   "cell_type": "code",
   "execution_count": 213,
   "metadata": {},
   "outputs": [
    {
     "name": "stdout",
     "output_type": "stream",
     "text": [
      "['http://www.coolenjoy.net/bbs/40',\n",
      " 'http://coolenjoy.net/bbs/hardcore_cooling',\n",
      " 'https://quasarzone.co.kr/bbs/board.php?bo_table=qf_vga']\n"
     ]
    }
   ],
   "source": [
    "filtered_target_sites = list(map(lambda x: x if error_checker(x)==0 else None, target_sites))\n",
    "filtered_target_sites = list(filter(None, filtered_target_sites))\n",
    "target_sites = filtered_target_sites\n",
    "\n",
    "pprint(target_sites)"
   ]
  },
  {
   "cell_type": "code",
   "execution_count": 214,
   "metadata": {},
   "outputs": [
    {
     "data": {
      "text/plain": [
       "[<http.client.HTTPResponse at 0x21d2bb7a7c8>,\n",
       " <http.client.HTTPResponse at 0x21d2bb67548>,\n",
       " <http.client.HTTPResponse at 0x21d2bb670c8>]"
      ]
     },
     "execution_count": 214,
     "metadata": {},
     "output_type": "execute_result"
    }
   ],
   "source": [
    "html_list = [urlopen(x) for x in target_sites]\n",
    "html_list"
   ]
  },
  {
   "cell_type": "code",
   "execution_count": 215,
   "metadata": {},
   "outputs": [
    {
     "data": {
      "text/plain": [
       "3"
      ]
     },
     "execution_count": 215,
     "metadata": {},
     "output_type": "execute_result"
    }
   ],
   "source": [
    "html_list_bs = [bs(x, 'html.parser') for x in html_list]\n",
    "\n",
    "html2site = {}\n",
    "for i in range(0, len(html_list_bs)):\n",
    "    html2site[html_list_bs[i]] = target_sites[i]\n",
    "\n",
    "len(html_list_bs)"
   ]
  },
  {
   "cell_type": "markdown",
   "metadata": {},
   "source": [
    "### 키워드가 들어간 게시글들을 찾는다. 이 게시물들이 (정확히는 0번째 게시물이) 같은 계층의 다른 게시물들의 css selector path를 추정하는데 쓰인다."
   ]
  },
  {
   "cell_type": "code",
   "execution_count": 216,
   "metadata": {},
   "outputs": [],
   "source": [
    "html2target_post = {}\n",
    "\n",
    "for html_bs in html_list_bs:\n",
    "    target_posts = html_bs.find_all(text=regex)\n",
    "    \n",
    "    if len(target_posts) < 2:\n",
    "        print('Warning: site[{site}] has less than 2 elements matching the given keywords'.format(site=html2site[html_bs]))\n",
    "    \n",
    "    html2target_post[html_bs] = target_posts"
   ]
  },
  {
   "cell_type": "code",
   "execution_count": 217,
   "metadata": {},
   "outputs": [
    {
     "name": "stdout",
     "output_type": "stream",
     "text": [
      "['\\r\\n'\n",
      " '                    파이맥스 8K ,영화감상용으론 4K 프로젝터 150인치 보다 '\n",
      " '나을까요?                    ',\n",
      " '\\r\\n'\n",
      " '                    오디세이 VR 세팅방법 제가 인지한게 '\n",
      " '맞을까요?                                    ',\n",
      " '\\r\\n                    지금 아마존에서 vr 직구로 살만할까요?                    ']\n",
      "['\\r\\n                    유냉 PC를 냉장고에 넣어 실사용이 가능할까요?                    ',\n",
      " '\\r\\n                    워터블록 나사 조임 어느정도 조여줘야할까요?                    ',\n",
      " '\\r\\n                    전원부 써멀패드 두께 어느정도 써야 할까요?                    ',\n",
      " '\\r\\n                    NZXT 케이스 팬 교체하면 많이 달라질까요                    ']\n",
      "['                    샌디에 어울리는 중고 글카가 무엇일까요\\t\\t\\t\\t',\n",
      " '                    1060 vs 1660 어느 정도 차이 일까요?\\t\\t\\t\\t',\n",
      " '                    1650 super 살 메리트 있을까요?\\t\\t\\t\\t',\n",
      " '                    지금 2070 super로 바꿔도 될까요?\\t\\t\\t\\t']\n"
     ]
    }
   ],
   "source": [
    "for k, v in html2target_post.items():\n",
    "    pprint(v)"
   ]
  },
  {
   "cell_type": "markdown",
   "metadata": {},
   "source": [
    "### 0 번째 게시물을 토대로 키워드가 등장하는 다른 element와의 공통 조상을 찾는다. "
   ]
  },
  {
   "cell_type": "code",
   "execution_count": 232,
   "metadata": {},
   "outputs": [],
   "source": [
    "def get_id_class_selector(element):\n",
    "#     print(\"Let's check element's attrs\", element.attrs)\n",
    "    if 'id' in element.attrs.keys():\n",
    "        return element.name + '#' + element.attrs['id']\n",
    "    elif 'class' in element.attrs.keys() and element.attrs['class'] != []:\n",
    "        return element.name + '.' + element.attrs['class'][0]\n",
    "    else:\n",
    "        return element.name"
   ]
  },
  {
   "cell_type": "code",
   "execution_count": 233,
   "metadata": {},
   "outputs": [],
   "source": [
    "def find_common_ancestor(child):\n",
    "    ancestor_path = []\n",
    "    for parent in child.parents:\n",
    "        if len(parent.find_all(text=regex)) == 1:\n",
    "            ancestor_path.append(parent)\n",
    "            continue\n",
    "        if len(parent.find_all(text=regex)) > 1:\n",
    "            return parent, ancestor_path\n",
    "        else:\n",
    "            print('Error in find_common_ancestor(): No matching elements to keywords')\n",
    "            return"
   ]
  },
  {
   "cell_type": "code",
   "execution_count": 235,
   "metadata": {},
   "outputs": [],
   "source": [
    "html2all_posts = {}\n",
    "html2css_selector_path = {}\n",
    "\n",
    "for html_bs in html_list_bs:\n",
    "    common_ancestor = find_common_ancestor(html2target_post[html_bs][0])\n",
    "    \n",
    "    css_selector_path = list(map(get_id_class_selector, common_ancestor[1][::-1]))\n",
    "    css_selector_path = \">\".join(css_selector_path)\n",
    "    \n",
    "    all_posts = common_ancestor[0].select(css_selector_path)\n",
    "    css_selector_path = common_ancestor[0].name + \">\" + css_selector_path\n",
    "    \n",
    "    html2all_posts[html_bs] = all_posts\n",
    "    html2css_selector_path[html_bs] = css_selector_path"
   ]
  },
  {
   "cell_type": "markdown",
   "metadata": {},
   "source": [
    "### 각 게시판에서 게시글의 css selector가 잘 나오는 것을 볼 수 있다. "
   ]
  },
  {
   "cell_type": "code",
   "execution_count": 236,
   "metadata": {},
   "outputs": [
    {
     "name": "stdout",
     "output_type": "stream",
     "text": [
      "tbody>tr>td.td_subject>a\n",
      "tbody>tr>td.td_subject>a\n",
      "ul>li.list-item>div.wr-subject>a.item-subject\n"
     ]
    }
   ],
   "source": [
    "for k, v in html2css_selector_path.items():\n",
    "    print(v)"
   ]
  },
  {
   "cell_type": "code",
   "execution_count": 237,
   "metadata": {
    "collapsed": true,
    "jupyter": {
     "outputs_hidden": true
    }
   },
   "outputs": [
    {
     "name": "stdout",
     "output_type": "stream",
     "text": [
      "[<a href=\"http://www.coolenjoy.net/bbs/40/7818\">\n",
      "                    밸브인덱스 한국출시하나요??                    <span class=\"sound_only\">댓글</span><span class=\"cnt_cmt\">[1]</span><span class=\"sound_only\">개</span> </a>,\n",
      " <a href=\"http://www.coolenjoy.net/bbs/40/7816\">\n",
      "                    오큘 리프트s 블랙아웃 현상 때문에 고통받고 있네요                    <span class=\"sound_only\">댓글</span><span class=\"cnt_cmt\">[2]</span><span class=\"sound_only\">개</span> </a>,\n",
      " <a href=\"http://www.coolenjoy.net/bbs/40/7815\">\n",
      "                    vive hdmi 연결했는데 연결 안됐다 뜹니다.                                    </a>,\n",
      " <a href=\"http://www.coolenjoy.net/bbs/40/7802\">\n",
      "                    파이맥스 8K ,영화감상용으론 4K 프로젝터 150인치 보다 나을까요?                    <span class=\"sound_only\">댓글</span><span class=\"cnt_cmt\">[4]</span><span class=\"sound_only\">개</span> </a>,\n",
      " <a href=\"http://www.coolenjoy.net/bbs/40/7801\">\n",
      "                    오딧세이 플러스를 사려고하는데요                    <span class=\"sound_only\">댓글</span><span class=\"cnt_cmt\">[2]</span><span class=\"sound_only\">개</span> </a>,\n",
      " <a href=\"http://www.coolenjoy.net/bbs/40/7797\">\n",
      "                    VR 오디세이 플러스 샀습니다.                    <span class=\"sound_only\">댓글</span><span class=\"cnt_cmt\">[6]</span><span class=\"sound_only\">개</span> </a>,\n",
      " <a href=\"http://www.coolenjoy.net/bbs/40/7795\">\n",
      "                    pico 4k 괜찮나요?                    <span class=\"sound_only\">댓글</span><span class=\"cnt_cmt\">[2]</span><span class=\"sound_only\">개</span> </a>,\n",
      " <a href=\"http://www.coolenjoy.net/bbs/40/7786\">\n",
      "                    오큘러스 고를 받고 살짝 후회가 듭니다                    <span class=\"sound_only\">댓글</span><span class=\"cnt_cmt\">[4]</span><span class=\"sound_only\">개</span> </a>,\n",
      " <a href=\"http://www.coolenjoy.net/bbs/40/7785\">\n",
      "                    vive pro 무선 어뎁터 질문요..                    <span class=\"sound_only\">댓글</span><span class=\"cnt_cmt\">[2]</span><span class=\"sound_only\">개</span> </a>,\n",
      " <a href=\"http://www.coolenjoy.net/bbs/40/7777\">\n",
      "                    오디세이 VR 세팅방법 제가 인지한게 맞을까요?                                    </a>,\n",
      " <a href=\"http://www.coolenjoy.net/bbs/40/7759\">\n",
      "                    오디세이 플러스 구매했는데.. 조언 해주세요.ㅋㅋ                    <span class=\"sound_only\">댓글</span><span class=\"cnt_cmt\">[12]</span><span class=\"sound_only\">개</span> </a>,\n",
      " <a href=\"http://www.coolenjoy.net/bbs/40/7755\">\n",
      "                    리버브로 영상보니까 뻥 쪼금 치면                    <span class=\"sound_only\">댓글</span><span class=\"cnt_cmt\">[3]</span><span class=\"sound_only\">개</span> </a>,\n",
      " <a href=\"http://www.coolenjoy.net/bbs/40/7751\">\n",
      "                    오큘러스 리프트 S 구매해습니다.                    <span class=\"sound_only\">댓글</span><span class=\"cnt_cmt\">[1]</span><span class=\"sound_only\">개</span> </a>,\n",
      " <a href=\"http://www.coolenjoy.net/bbs/40/7743\">\n",
      "                    인덱스 고민하다 결국 바이브 질렀습니다.                    <span class=\"sound_only\">댓글</span><span class=\"cnt_cmt\">[3]</span><span class=\"sound_only\">개</span> </a>,\n",
      " <a href=\"http://www.coolenjoy.net/bbs/40/7741\">\n",
      "                    레노버mr사용중입니다. steamvr이 자꾸 오류가납니다                    <span class=\"sound_only\">댓글</span><span class=\"cnt_cmt\">[6]</span><span class=\"sound_only\">개</span> </a>,\n",
      " <a href=\"http://www.coolenjoy.net/bbs/40/7740\">\n",
      "                    지금 아마존에서 vr 직구로 살만할까요?                    <span class=\"sound_only\">댓글</span><span class=\"cnt_cmt\">[1]</span><span class=\"sound_only\">개</span> </a>,\n",
      " <a href=\"http://www.coolenjoy.net/bbs/40/7732\">\n",
      "                    vr을 사려는데요                    <span class=\"sound_only\">댓글</span><span class=\"cnt_cmt\">[2]</span><span class=\"sound_only\">개</span> </a>,\n",
      " <a href=\"http://www.coolenjoy.net/bbs/40/7729\">\n",
      "                    파이맥스4k로 유투브 어떻게 보나요?                    <span class=\"sound_only\">댓글</span><span class=\"cnt_cmt\">[3]</span><span class=\"sound_only\">개</span> </a>,\n",
      " <a href=\"http://www.coolenjoy.net/bbs/40/7727\">\n",
      "                    안녕하세요, 혹시 VR 케이블 연장 성공하신 분 계신가요?                    <span class=\"sound_only\">댓글</span><span class=\"cnt_cmt\">[3]</span><span class=\"sound_only\">개</span> </a>,\n",
      " <a href=\"http://www.coolenjoy.net/bbs/40/7722\">\n",
      "                    스팀 설문조사(시스템 정보 수집)에 참여 했는데...                    <span class=\"sound_only\">댓글</span><span class=\"cnt_cmt\">[3]</span><span class=\"sound_only\">개</span> </a>,\n",
      " <a href=\"http://www.coolenjoy.net/bbs/40/7712\">\n",
      "                    vr 기기중 가장 화질좋고 성능 좋은 기기가 뭔가요                    <span class=\"sound_only\">댓글</span><span class=\"cnt_cmt\">[3]</span><span class=\"sound_only\">개</span> </a>,\n",
      " <a href=\"http://www.coolenjoy.net/bbs/40/7709\">\n",
      "                    htc vive 베이스스테이션 스텐드는 뭐가 싸고 좋나요?                    <span class=\"sound_only\">댓글</span><span class=\"cnt_cmt\">[3]</span><span class=\"sound_only\">개</span> </a>,\n",
      " <a href=\"http://www.coolenjoy.net/bbs/40/7704\">\n",
      "                    요즘 vr 멀미 많이 개선되었나요?                    <span class=\"sound_only\">댓글</span><span class=\"cnt_cmt\">[6]</span><span class=\"sound_only\">개</span> </a>,\n",
      " <a href=\"http://www.coolenjoy.net/bbs/40/7703\">\n",
      "                    VIVE -&gt; Index 호환성 기록 및 소감                    <span class=\"sound_only\">댓글</span><span class=\"cnt_cmt\">[1]</span><span class=\"sound_only\">개</span> </a>,\n",
      " <a href=\"http://www.coolenjoy.net/bbs/40/7696\">\n",
      "                    오큘러스 링크가 뭐에요?                    <span class=\"sound_only\">댓글</span><span class=\"cnt_cmt\">[2]</span><span class=\"sound_only\">개</span> </a>]\n",
      "[<a href=\"http://coolenjoy.net/bbs/hardcore_cooling/14796\">\n",
      "                    저만의 익스트림 하드코어 쿨링(+공구팁)                                    </a>,\n",
      " <a href=\"http://coolenjoy.net/bbs/hardcore_cooling/14774\">\n",
      "                    hd120쓰고있습니다.. 사진처럼 설정하구싶은데 어떻게…                    <span class=\"sound_only\">댓글</span><span class=\"cnt_cmt\">[9]</span><span class=\"sound_only\">개</span> </a>,\n",
      " <a href=\"http://coolenjoy.net/bbs/hardcore_cooling/14767\">\n",
      "                    50w 괴물팬엔 공랭? 수랭?                    <span class=\"sound_only\">댓글</span><span class=\"cnt_cmt\">[4]</span><span class=\"sound_only\">개</span> </a>,\n",
      " <a href=\"http://coolenjoy.net/bbs/hardcore_cooling/14745\">\n",
      "                    하드코어의 기준은 무엇일까?(철학)                    <span class=\"sound_only\">댓글</span><span class=\"cnt_cmt\">[17]</span><span class=\"sound_only\">개</span> </a>,\n",
      " <a href=\"http://coolenjoy.net/bbs/hardcore_cooling/14742\">\n",
      "                    미니ITX 쿨링 비교 부탁드립니다.                    <span class=\"sound_only\">댓글</span><span class=\"cnt_cmt\">[8]</span><span class=\"sound_only\">개</span> </a>,\n",
      " <a href=\"http://coolenjoy.net/bbs/hardcore_cooling/14715\">\n",
      "                    잘만 써멀구리스가 역시 좋네요.                    <span class=\"sound_only\">댓글</span><span class=\"cnt_cmt\">[11]</span><span class=\"sound_only\">개</span> </a>,\n",
      " <a href=\"http://coolenjoy.net/bbs/hardcore_cooling/14711\">\n",
      "                    전원부 및 메인보드 PCH 써멀패드 교체 후기                                    </a>,\n",
      " <a href=\"http://coolenjoy.net/bbs/hardcore_cooling/14660\">\n",
      "                    유냉 PC를 냉장고에 넣어 실사용이 가능할까요?                    <span class=\"sound_only\">댓글</span><span class=\"cnt_cmt\">[11]</span><span class=\"sound_only\">개</span> </a>,\n",
      " <a href=\"http://coolenjoy.net/bbs/hardcore_cooling/14642\">\n",
      "                    컴린이입니다, 써모랩 트리니티 화이트 팬만 따로 구매가…                    <span class=\"sound_only\">댓글</span><span class=\"cnt_cmt\">[10]</span><span class=\"sound_only\">개</span> </a>,\n",
      " <a href=\"http://coolenjoy.net/bbs/hardcore_cooling/14640\">\n",
      "                    워터블록 나사 조임 어느정도 조여줘야할까요?                    <span class=\"sound_only\">댓글</span><span class=\"cnt_cmt\">[7]</span><span class=\"sound_only\">개</span> </a>,\n",
      " <a href=\"http://coolenjoy.net/bbs/hardcore_cooling/14636\">\n",
      "                    EK 공홈 직구 아마존처럼 하면 되는건가요?                    <span class=\"sound_only\">댓글</span><span class=\"cnt_cmt\">[5]</span><span class=\"sound_only\">개</span> </a>,\n",
      " <a href=\"http://coolenjoy.net/bbs/hardcore_cooling/14622\">\n",
      "                    전원부 써멀패드 두께 어느정도 써야 할까요?                    <span class=\"sound_only\">댓글</span><span class=\"cnt_cmt\">[14]</span><span class=\"sound_only\">개</span> </a>,\n",
      " <a href=\"http://coolenjoy.net/bbs/hardcore_cooling/14617\">\n",
      "                    (스압)첫 커스텀 수냉 견적 짜봤습니다. 20/01/0…                    <span class=\"sound_only\">댓글</span><span class=\"cnt_cmt\">[5]</span><span class=\"sound_only\">개</span> </a>,\n",
      " <a href=\"http://coolenjoy.net/bbs/hardcore_cooling/14615\">\n",
      "                    NOCTUA NF-A12x25 PWM 이제품 블랙색상은…                    <span class=\"sound_only\">댓글</span><span class=\"cnt_cmt\">[20]</span><span class=\"sound_only\">개</span> </a>,\n",
      " <a href=\"http://coolenjoy.net/bbs/hardcore_cooling/14610\">\n",
      "                    써멀 패드 추천 부탁드립니다.                    <span class=\"sound_only\">댓글</span><span class=\"cnt_cmt\">[4]</span><span class=\"sound_only\">개</span> </a>,\n",
      " <a href=\"http://coolenjoy.net/bbs/hardcore_cooling/14606\">\n",
      "                    케이스 내부팬 설치 질문이요                    <span class=\"sound_only\">댓글</span><span class=\"cnt_cmt\">[2]</span><span class=\"sound_only\">개</span> </a>,\n",
      " <a href=\"http://coolenjoy.net/bbs/hardcore_cooling/14599\">\n",
      "                    커세어 ll140 질문좀드려요                    <span class=\"sound_only\">댓글</span><span class=\"cnt_cmt\">[7]</span><span class=\"sound_only\">개</span> </a>,\n",
      " <a href=\"http://coolenjoy.net/bbs/hardcore_cooling/14591\">\n",
      "                    제품문의 드립니다!.                    <span class=\"sound_only\">댓글</span><span class=\"cnt_cmt\">[5]</span><span class=\"sound_only\">개</span> </a>,\n",
      " <a href=\"http://coolenjoy.net/bbs/hardcore_cooling/14582\">\n",
      "                    여기에 램쿨러 설치할 수 있나요?                    <span class=\"sound_only\">댓글</span><span class=\"cnt_cmt\">[10]</span><span class=\"sound_only\">개</span> </a>,\n",
      " <a href=\"http://coolenjoy.net/bbs/hardcore_cooling/14574\">\n",
      "                    하단부 쿨링팬 2개 달려면...파워선 4핀 꼽을데가없어…                    <span class=\"sound_only\">댓글</span><span class=\"cnt_cmt\">[3]</span><span class=\"sound_only\">개</span> </a>,\n",
      " <a href=\"http://coolenjoy.net/bbs/hardcore_cooling/14559\">\n",
      "                    maximus xi apex 전원부 서멀패드 두께 추천…                    <span class=\"sound_only\">댓글</span><span class=\"cnt_cmt\">[8]</span><span class=\"sound_only\">개</span> </a>,\n",
      " <a href=\"http://coolenjoy.net/bbs/hardcore_cooling/14555\">\n",
      "                    전원부 쿨링 팬설치 위치 질문있습니다 (z370 gam…                    <span class=\"sound_only\">댓글</span><span class=\"cnt_cmt\">[9]</span><span class=\"sound_only\">개</span> </a>,\n",
      " <a href=\"http://coolenjoy.net/bbs/hardcore_cooling/14553\">\n",
      "                    케이스 전면 흡기 3팬 문의                    <span class=\"sound_only\">댓글</span><span class=\"cnt_cmt\">[2]</span><span class=\"sound_only\">개</span> </a>,\n",
      " <a href=\"http://coolenjoy.net/bbs/hardcore_cooling/14550\">\n",
      "                    NZXT 케이스 팬 교체하면 많이 달라질까요                    <span class=\"sound_only\">댓글</span><span class=\"cnt_cmt\">[4]</span><span class=\"sound_only\">개</span> </a>,\n",
      " <a href=\"http://coolenjoy.net/bbs/hardcore_cooling/14543\">\n",
      "                    커세어 LL120 색상깨짐 문제                    <span class=\"sound_only\">댓글</span><span class=\"cnt_cmt\">[9]</span><span class=\"sound_only\">개</span> </a>]\n",
      "[<a class=\"item-subject\" href=\"https://quasarzone.co.kr/bbs/board.php?bo_table=qf_vga&amp;wr_id=150797\">\n",
      "<span class=\"orange visible-xs pull-right wr-comment\">\n",
      "<i class=\"fa fa-comment lightgray\"></i>\n",
      "<b>17</b>\n",
      "</span>\n",
      "<b class=\"wr-hidden\">[알림]</b> <b>★ 퀘이사존 공식 그래픽카드 벤치마크 모음(19.11.23)</b> </a>,\n",
      " <a class=\"item-subject\" href=\"https://quasarzone.co.kr/bbs/board.php?bo_table=qf_vga&amp;wr_id=260166\">\n",
      "<span class=\"orange visible-xs pull-right wr-comment\">\n",
      "<i class=\"fa fa-comment lightgray\"></i>\n",
      "<b>32</b>\n",
      "</span>\n",
      "<b class=\"wr-hidden\">[알림]</b> <b>★ 19년 7월 기준, 85종 그래픽카드 삼디막 파스/타스 점수</b> </a>,\n",
      " <a class=\"item-subject\" href=\"https://quasarzone.co.kr/bbs/board.php?bo_table=qf_vga&amp;wr_id=220201\">\n",
      "<span class=\"orange visible-xs pull-right wr-comment\">\n",
      "<i class=\"fa fa-comment lightgray\"></i>\n",
      "<b>12</b>\n",
      "</span>\n",
      "<b class=\"wr-hidden\">[알림]</b> <b>컴린이를 위한 기초강의! 퀘이사전 &lt;그래픽카드&gt;</b> </a>,\n",
      " <a class=\"item-subject\" href=\"https://quasarzone.co.kr/bbs/board.php?bo_table=qf_vga&amp;wr_id=599\">\n",
      "<span class=\"orange visible-xs pull-right wr-comment\">\n",
      "<i class=\"fa fa-comment lightgray\"></i>\n",
      "<b>21</b>\n",
      "</span>\n",
      "<b class=\"wr-hidden\">[알림]</b> <b>퀘이사존 사이트 이용 안내 통합 공지(19.09.04)</b> </a>,\n",
      " <a class=\"item-subject\" href=\"https://quasarzone.co.kr/bbs/board.php?bo_table=qf_vga&amp;wr_id=316188\">\n",
      "<span class=\"wr-icon wr-new\"></span>                    PCIe 3.0 x 16 vs PCIe 3.0 x 8 성능 차이 많이 나나요?\t\t\t\t</a>,\n",
      " <a class=\"item-subject\" href=\"https://quasarzone.co.kr/bbs/board.php?bo_table=qf_vga&amp;wr_id=316186\">\n",
      "<span class=\"wr-icon wr-new\"></span>                    위쳐3를 진행할려고합니다.\t\t\t\t</a>,\n",
      " <a class=\"item-subject\" href=\"https://quasarzone.co.kr/bbs/board.php?bo_table=qf_vga&amp;wr_id=316185\">\n",
      "<span class=\"orange visible-xs pull-right wr-comment\">\n",
      "<i class=\"fa fa-comment lightgray\"></i>\n",
      "<b>2</b>\n",
      "</span>\n",
      "<span class=\"wr-icon wr-new\"></span>                    샌디에 어울리는 중고 글카가 무엇일까요\t\t\t\t</a>,\n",
      " <a class=\"item-subject\" href=\"https://quasarzone.co.kr/bbs/board.php?bo_table=qf_vga&amp;wr_id=316183\">\n",
      "<span class=\"wr-icon wr-new\"></span>                    혼종구성 GPU 0번 1번 순서가 좀 이상하네요\t\t\t\t</a>,\n",
      " <a class=\"item-subject\" href=\"https://quasarzone.co.kr/bbs/board.php?bo_table=qf_vga&amp;wr_id=316179\">\n",
      "<span class=\"orange visible-xs pull-right wr-comment\">\n",
      "<i class=\"fa fa-comment lightgray\"></i>\n",
      "<b>1</b>\n",
      "</span>\n",
      "<span class=\"wr-icon wr-new\"></span>                    EVGA RTX 2060 KO 출시 RX5600XT 견제\t\t\t\t</a>,\n",
      " <a class=\"item-subject\" href=\"https://quasarzone.co.kr/bbs/board.php?bo_table=qf_vga&amp;wr_id=316176\">\n",
      "<span class=\"orange visible-xs pull-right wr-comment\">\n",
      "<i class=\"fa fa-comment lightgray\"></i>\n",
      "<b>3</b>\n",
      "</span>\n",
      "<span class=\"wr-icon wr-new\"></span>                    1060 vs 1660 어느 정도 차이 일까요?\t\t\t\t</a>,\n",
      " <a class=\"item-subject\" href=\"https://quasarzone.co.kr/bbs/board.php?bo_table=qf_vga&amp;wr_id=316171\">\n",
      "<span class=\"wr-icon wr-new\"></span>                    리더스시스템즈 AS관련\t\t\t\t</a>,\n",
      " <a class=\"item-subject\" href=\"https://quasarzone.co.kr/bbs/board.php?bo_table=qf_vga&amp;wr_id=316166\">\n",
      "<span class=\"orange visible-xs pull-right wr-comment\">\n",
      "<i class=\"fa fa-comment lightgray\"></i>\n",
      "<b>4</b>\n",
      "</span>\n",
      "<span class=\"wr-icon wr-new\"></span>                    RX570 존버용으로 사려면 새거사나요? 중고사나요?\t\t\t\t</a>,\n",
      " <a class=\"item-subject\" href=\"https://quasarzone.co.kr/bbs/board.php?bo_table=qf_vga&amp;wr_id=316162\">\n",
      "<span class=\"orange visible-xs pull-right wr-comment\">\n",
      "<i class=\"fa fa-comment lightgray\"></i>\n",
      "<b>4</b>\n",
      "</span>\n",
      "<span class=\"wr-icon wr-new\"></span>                    2060 super 파스 평균점수 궁금합니다.\t\t\t\t</a>,\n",
      " <a class=\"item-subject\" href=\"https://quasarzone.co.kr/bbs/board.php?bo_table=qf_vga&amp;wr_id=316151\">\n",
      "<span class=\"orange visible-xs pull-right wr-comment\">\n",
      "<i class=\"fa fa-comment lightgray\"></i>\n",
      "<b>1</b>\n",
      "</span>\n",
      "<span class=\"wr-icon wr-new\"></span>                    1650 super 살 메리트 있을까요?\t\t\t\t</a>,\n",
      " <a class=\"item-subject\" href=\"https://quasarzone.co.kr/bbs/board.php?bo_table=qf_vga&amp;wr_id=316147\">\n",
      "<span class=\"orange visible-xs pull-right wr-comment\">\n",
      "<i class=\"fa fa-comment lightgray\"></i>\n",
      "<b>4</b>\n",
      "</span>\n",
      "<span class=\"wr-icon wr-new\"></span>                    2070 SUPER 화면 꺼짐 질문\t\t\t\t</a>,\n",
      " <a class=\"item-subject\" href=\"https://quasarzone.co.kr/bbs/board.php?bo_table=qf_vga&amp;wr_id=316143\">\n",
      "<span class=\"orange visible-xs pull-right wr-comment\">\n",
      "<i class=\"fa fa-comment lightgray\"></i>\n",
      "<b>1</b>\n",
      "</span>\n",
      "<span class=\"wr-icon wr-new\"></span>                    2060s wqhd\t\t\t\t</a>,\n",
      " <a class=\"item-subject\" href=\"https://quasarzone.co.kr/bbs/board.php?bo_table=qf_vga&amp;wr_id=316142\">\n",
      "<span class=\"orange visible-xs pull-right wr-comment\">\n",
      "<i class=\"fa fa-comment lightgray\"></i>\n",
      "<b>1</b>\n",
      "</span>\n",
      "<span class=\"wr-icon wr-new\"></span>                    2080ti amp extreme vs extreme core\t\t\t\t</a>,\n",
      " <a class=\"item-subject\" href=\"https://quasarzone.co.kr/bbs/board.php?bo_table=qf_vga&amp;wr_id=316141\">\n",
      "<span class=\"orange visible-xs pull-right wr-comment\">\n",
      "<i class=\"fa fa-comment lightgray\"></i>\n",
      "<b>1</b>\n",
      "</span>\n",
      "<span class=\"wr-icon wr-new\"></span>                    Palit 그래픽카드 사용중인데 문제가 있어 AS하려 합니다\t\t\t\t</a>,\n",
      " <a class=\"item-subject\" href=\"https://quasarzone.co.kr/bbs/board.php?bo_table=qf_vga&amp;wr_id=316131\">\n",
      "<span class=\"orange visible-xs pull-right wr-comment\">\n",
      "<i class=\"fa fa-comment lightgray\"></i>\n",
      "<b>1</b>\n",
      "</span>\n",
      "<span class=\"wr-icon wr-new\"></span>                    RX560 문의\t\t\t\t</a>,\n",
      " <a class=\"item-subject\" href=\"https://quasarzone.co.kr/bbs/board.php?bo_table=qf_vga&amp;wr_id=316126\">\n",
      "<span class=\"orange visible-xs pull-right wr-comment\">\n",
      "<i class=\"fa fa-comment lightgray\"></i>\n",
      "<b>3</b>\n",
      "</span>\n",
      "<span class=\"wr-icon wr-hot\"></span>                    웨이코스 A/S가 정말 좋네요\t\t\t\t</a>,\n",
      " <a class=\"item-subject\" href=\"https://quasarzone.co.kr/bbs/board.php?bo_table=qf_vga&amp;wr_id=316116\">\n",
      "<span class=\"orange visible-xs pull-right wr-comment\">\n",
      "<i class=\"fa fa-comment lightgray\"></i>\n",
      "<b>1</b>\n",
      "</span>\n",
      "<span class=\"wr-icon wr-new\"></span>                    송출 그래픽  추천좀여\t\t\t\t</a>,\n",
      " <a class=\"item-subject\" href=\"https://quasarzone.co.kr/bbs/board.php?bo_table=qf_vga&amp;wr_id=316112\">\n",
      "<span class=\"orange visible-xs pull-right wr-comment\">\n",
      "<i class=\"fa fa-comment lightgray\"></i>\n",
      "<b>5</b>\n",
      "</span>\n",
      "<span class=\"wr-icon wr-hot\"></span>                    얼마전 1060에서 1660s로 질문글 올렸다가 2060s로 바꿨습니다.\t\t\t\t</a>,\n",
      " <a class=\"item-subject\" href=\"https://quasarzone.co.kr/bbs/board.php?bo_table=qf_vga&amp;wr_id=316110\">\n",
      "<span class=\"orange visible-xs pull-right wr-comment\">\n",
      "<i class=\"fa fa-comment lightgray\"></i>\n",
      "<b>2</b>\n",
      "</span>\n",
      "<span class=\"wr-icon wr-hot\"></span>                    Adrenalin 20.1.1 어제 올라왔네요.\t\t\t\t</a>,\n",
      " <a class=\"item-subject\" href=\"https://quasarzone.co.kr/bbs/board.php?bo_table=qf_vga&amp;wr_id=316106\">\n",
      "<span class=\"orange visible-xs pull-right wr-comment\">\n",
      "<i class=\"fa fa-comment lightgray\"></i>\n",
      "<b>3</b>\n",
      "</span>\n",
      "<span class=\"wr-icon wr-hot\"></span>                    지금 2070 super로 바꿔도 될까요?\t\t\t\t</a>,\n",
      " <a class=\"item-subject\" href=\"https://quasarzone.co.kr/bbs/board.php?bo_table=qf_vga&amp;wr_id=316094\">\n",
      "<span class=\"orange visible-xs pull-right wr-comment\">\n",
      "<i class=\"fa fa-comment lightgray\"></i>\n",
      "<b>1</b>\n",
      "</span>\n",
      "<span class=\"wr-icon wr-hot\"></span>                    3600 2070s 파스입니다\t\t\t\t</a>,\n",
      " <a class=\"item-subject\" href=\"https://quasarzone.co.kr/bbs/board.php?bo_table=qf_vga&amp;wr_id=316088\">\n",
      "<span class=\"orange visible-xs pull-right wr-comment\">\n",
      "<i class=\"fa fa-comment lightgray\"></i>\n",
      "<b>1</b>\n",
      "</span>\n",
      "<span class=\"wr-icon wr-new\"></span>                    컴터를 키면 글카가 굉음을 내며 신호 없음으로 뜹니다.\t\t\t\t</a>,\n",
      " <a class=\"item-subject\" href=\"https://quasarzone.co.kr/bbs/board.php?bo_table=qf_vga&amp;wr_id=316081\">\n",
      "<span class=\"orange visible-xs pull-right wr-comment\">\n",
      "<i class=\"fa fa-comment lightgray\"></i>\n",
      "<b>1</b>\n",
      "</span>\n",
      "<span class=\"wr-icon wr-new\"></span>                    3700x 2070super x570 어엘 파스점수,기쿨 문제사항 여쭤봐요\t\t\t\t</a>,\n",
      " <a class=\"item-subject\" href=\"https://quasarzone.co.kr/bbs/board.php?bo_table=qf_vga&amp;wr_id=316074\">\n",
      "<span class=\"orange visible-xs pull-right wr-comment\">\n",
      "<i class=\"fa fa-comment lightgray\"></i>\n",
      "<b>1</b>\n",
      "</span>\n",
      "<span class=\"wr-icon wr-new\"></span>                    듀얼모니터 쓸때 컴터가 꺼져버리네요\t\t\t\t</a>,\n",
      " <a class=\"item-subject\" href=\"https://quasarzone.co.kr/bbs/board.php?bo_table=qf_vga&amp;wr_id=316073\">\n",
      "<span class=\"orange visible-xs pull-right wr-comment\">\n",
      "<i class=\"fa fa-comment lightgray\"></i>\n",
      "<b>2</b>\n",
      "</span>\n",
      "<span class=\"wr-icon wr-hot\"></span>                    1660 super 브랜드 중에서 괜찮은게 뭔가용??\t\t\t\t</a>,\n",
      " <a class=\"item-subject\" href=\"https://quasarzone.co.kr/bbs/board.php?bo_table=qf_vga&amp;wr_id=316066\">\n",
      "<span class=\"orange visible-xs pull-right wr-comment\">\n",
      "<i class=\"fa fa-comment lightgray\"></i>\n",
      "<b>2</b>\n",
      "</span>\n",
      "<span class=\"wr-icon wr-hot\"></span>                    그래픽카드 2070 super 질문드려요\t\t\t\t</a>,\n",
      " <a class=\"item-subject\" href=\"https://quasarzone.co.kr/bbs/board.php?bo_table=qf_vga&amp;wr_id=316065\">\n",
      "<span class=\"orange visible-xs pull-right wr-comment\">\n",
      "<i class=\"fa fa-comment lightgray\"></i>\n",
      "<b>3</b>\n",
      "</span>\n",
      "<span class=\"wr-icon wr-image\"></span>                    안녕하세요 윈8.1 pro K 에서 rx570 드라이버 설치문제\t\t\t\t</a>,\n",
      " <a class=\"item-subject\" href=\"https://quasarzone.co.kr/bbs/board.php?bo_table=qf_vga&amp;wr_id=316054\">\n",
      "<span class=\"orange visible-xs pull-right wr-comment\">\n",
      "<i class=\"fa fa-comment lightgray\"></i>\n",
      "<b>2</b>\n",
      "</span>\n",
      "<span class=\"wr-icon wr-hot\"></span>                    그래픽카드 메모리 많이쓰면 안좋은가요?\t\t\t\t</a>,\n",
      " <a class=\"item-subject\" href=\"https://quasarzone.co.kr/bbs/board.php?bo_table=qf_vga&amp;wr_id=316052\">\n",
      "<span class=\"orange visible-xs pull-right wr-comment\">\n",
      "<i class=\"fa fa-comment lightgray\"></i>\n",
      "<b>2</b>\n",
      "</span>\n",
      "<span class=\"wr-icon wr-hot\"></span>                    갑자기 화면이 꺼지거나 아래사진처럼 꺠지네요\t\t\t\t</a>,\n",
      " <a class=\"item-subject\" href=\"https://quasarzone.co.kr/bbs/board.php?bo_table=qf_vga&amp;wr_id=316051\">\n",
      "<span class=\"wr-icon wr-image\"></span>                    혹시이거 글카 불량인가요?\t\t\t\t</a>]\n"
     ]
    }
   ],
   "source": [
    "for k, v in html2all_posts.items():\n",
    "    pprint(v)"
   ]
  },
  {
   "cell_type": "markdown",
   "metadata": {},
   "source": [
    "### css selector을 통해 각 게시판의 첫 게시물 크롤링하기\n",
    "\n",
    "id, class를 추가했으나, 공지사항과 같이 맨 위에 나타나는 놈을 처리하지 못했다. \n",
    "\n",
    "따라서 추후 새로운 글이 추가되었나 확인할 때, 기존 글 DB의 가장 위의 데이터와만 비교하면 안된다. 공지사항처럼 항상 위에 있는 데이터가 있기 때문에 최상단 n개를 긁어와서 기존 DB와 비교하며 뭐가 '새로 추가되었는지' 확인해야한다. "
   ]
  },
  {
   "cell_type": "code",
   "execution_count": 246,
   "metadata": {},
   "outputs": [
    {
     "name": "stdout",
     "output_type": "stream",
     "text": [
      "\n",
      "                    밸브인덱스 한국출시하나요??                    댓글[1]개   글 링크:  http://www.coolenjoy.net/bbs/40/7818\n",
      "\n",
      "                    오큘 리프트s 블랙아웃 현상 때문에 고통받고 있네요                    댓글[2]개   글 링크:  http://www.coolenjoy.net/bbs/40/7816\n",
      "\n",
      "                    vive hdmi 연결했는데 연결 안됐다 뜹니다.                                      글 링크:  http://www.coolenjoy.net/bbs/40/7815\n",
      "\n",
      "                    파이맥스 8K ,영화감상용으론 4K 프로젝터 150인치 보다 나을까요?                    댓글[4]개   글 링크:  http://www.coolenjoy.net/bbs/40/7802\n",
      "\n",
      "                    오딧세이 플러스를 사려고하는데요                    댓글[2]개   글 링크:  http://www.coolenjoy.net/bbs/40/7801\n",
      "\n",
      "                    VR 오디세이 플러스 샀습니다.                    댓글[6]개   글 링크:  http://www.coolenjoy.net/bbs/40/7797\n",
      "\n",
      "                    pico 4k 괜찮나요?                    댓글[2]개   글 링크:  http://www.coolenjoy.net/bbs/40/7795\n",
      "\n",
      "                    오큘러스 고를 받고 살짝 후회가 듭니다                    댓글[4]개   글 링크:  http://www.coolenjoy.net/bbs/40/7786\n",
      "\n",
      "                    vive pro 무선 어뎁터 질문요..                    댓글[2]개   글 링크:  http://www.coolenjoy.net/bbs/40/7785\n",
      "\n",
      "                    오디세이 VR 세팅방법 제가 인지한게 맞을까요?                                      글 링크:  http://www.coolenjoy.net/bbs/40/7777\n",
      "------------------------------\n",
      "\n",
      "                    저만의 익스트림 하드코어 쿨링(+공구팁)                                      글 링크:  http://coolenjoy.net/bbs/hardcore_cooling/14796\n",
      "\n",
      "                    hd120쓰고있습니다.. 사진처럼 설정하구싶은데 어떻게…                    댓글[9]개   글 링크:  http://coolenjoy.net/bbs/hardcore_cooling/14774\n",
      "\n",
      "                    50w 괴물팬엔 공랭? 수랭?                    댓글[4]개   글 링크:  http://coolenjoy.net/bbs/hardcore_cooling/14767\n",
      "\n",
      "                    하드코어의 기준은 무엇일까?(철학)                    댓글[17]개   글 링크:  http://coolenjoy.net/bbs/hardcore_cooling/14745\n",
      "\n",
      "                    미니ITX 쿨링 비교 부탁드립니다.                    댓글[8]개   글 링크:  http://coolenjoy.net/bbs/hardcore_cooling/14742\n",
      "\n",
      "                    잘만 써멀구리스가 역시 좋네요.                    댓글[11]개   글 링크:  http://coolenjoy.net/bbs/hardcore_cooling/14715\n",
      "\n",
      "                    전원부 및 메인보드 PCH 써멀패드 교체 후기                                      글 링크:  http://coolenjoy.net/bbs/hardcore_cooling/14711\n",
      "\n",
      "                    유냉 PC를 냉장고에 넣어 실사용이 가능할까요?                    댓글[11]개   글 링크:  http://coolenjoy.net/bbs/hardcore_cooling/14660\n",
      "\n",
      "                    컴린이입니다, 써모랩 트리니티 화이트 팬만 따로 구매가…                    댓글[10]개   글 링크:  http://coolenjoy.net/bbs/hardcore_cooling/14642\n",
      "\n",
      "                    워터블록 나사 조임 어느정도 조여줘야할까요?                    댓글[7]개   글 링크:  http://coolenjoy.net/bbs/hardcore_cooling/14640\n",
      "------------------------------\n",
      "\n",
      "\n",
      "\n",
      "17\n",
      "\n",
      "[알림] ★ 퀘이사존 공식 그래픽카드 벤치마크 모음(19.11.23)   글 링크:  https://quasarzone.co.kr/bbs/board.php?bo_table=qf_vga&wr_id=150797\n",
      "\n",
      "\n",
      "\n",
      "32\n",
      "\n",
      "[알림] ★ 19년 7월 기준, 85종 그래픽카드 삼디막 파스/타스 점수   글 링크:  https://quasarzone.co.kr/bbs/board.php?bo_table=qf_vga&wr_id=260166\n",
      "\n",
      "\n",
      "\n",
      "12\n",
      "\n",
      "[알림] 컴린이를 위한 기초강의! 퀘이사전 <그래픽카드>   글 링크:  https://quasarzone.co.kr/bbs/board.php?bo_table=qf_vga&wr_id=220201\n",
      "\n",
      "\n",
      "\n",
      "21\n",
      "\n",
      "[알림] 퀘이사존 사이트 이용 안내 통합 공지(19.09.04)   글 링크:  https://quasarzone.co.kr/bbs/board.php?bo_table=qf_vga&wr_id=599\n",
      "\n",
      "                    PCIe 3.0 x 16 vs PCIe 3.0 x 8 성능 차이 많이 나나요?\t\t\t\t  글 링크:  https://quasarzone.co.kr/bbs/board.php?bo_table=qf_vga&wr_id=316188\n",
      "\n",
      "                    위쳐3를 진행할려고합니다.\t\t\t\t  글 링크:  https://quasarzone.co.kr/bbs/board.php?bo_table=qf_vga&wr_id=316186\n",
      "\n",
      "\n",
      "\n",
      "2\n",
      "\n",
      "                    샌디에 어울리는 중고 글카가 무엇일까요\t\t\t\t  글 링크:  https://quasarzone.co.kr/bbs/board.php?bo_table=qf_vga&wr_id=316185\n",
      "\n",
      "                    혼종구성 GPU 0번 1번 순서가 좀 이상하네요\t\t\t\t  글 링크:  https://quasarzone.co.kr/bbs/board.php?bo_table=qf_vga&wr_id=316183\n",
      "\n",
      "\n",
      "\n",
      "1\n",
      "\n",
      "                    EVGA RTX 2060 KO 출시 RX5600XT 견제\t\t\t\t  글 링크:  https://quasarzone.co.kr/bbs/board.php?bo_table=qf_vga&wr_id=316179\n",
      "\n",
      "\n",
      "\n",
      "3\n",
      "\n",
      "                    1060 vs 1660 어느 정도 차이 일까요?\t\t\t\t  글 링크:  https://quasarzone.co.kr/bbs/board.php?bo_table=qf_vga&wr_id=316176\n",
      "------------------------------\n"
     ]
    }
   ],
   "source": [
    "for k, v in html2css_selector_path.items():\n",
    "    for i in k.select(v)[:10]:\n",
    "        a_href = '#'\n",
    "        if 'href' in i.attrs.keys():\n",
    "            a_href = i.attrs['href']\n",
    "        \n",
    "        print(i.text, \" 글 링크: \", a_href)\n",
    "    print(\"---\"*10)"
   ]
  },
  {
   "cell_type": "code",
   "execution_count": null,
   "metadata": {},
   "outputs": [],
   "source": []
  }
 ],
 "metadata": {
  "kernelspec": {
   "display_name": "Python 3",
   "language": "python",
   "name": "python3"
  },
  "language_info": {
   "codemirror_mode": {
    "name": "ipython",
    "version": 3
   },
   "file_extension": ".py",
   "mimetype": "text/x-python",
   "name": "python",
   "nbconvert_exporter": "python",
   "pygments_lexer": "ipython3",
   "version": "3.7.5"
  }
 },
 "nbformat": 4,
 "nbformat_minor": 4
}
